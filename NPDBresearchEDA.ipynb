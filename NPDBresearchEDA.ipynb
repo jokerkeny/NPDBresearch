{
  "nbformat": 4,
  "nbformat_minor": 0,
  "metadata": {
    "orig_nbformat": 2,
    "kernelspec": {
      "name": "python3",
      "display_name": "Python 3"
    },
    "colab": {
      "name": "NPDBresearchEDA.ipynb",
      "provenance": [],
      "collapsed_sections": [],
      "toc_visible": true,
      "include_colab_link": true
    },
    "language_info": {
      "name": "python"
    }
  },
  "cells": [
    {
      "cell_type": "markdown",
      "metadata": {
        "id": "view-in-github",
        "colab_type": "text"
      },
      "source": [
        "<a href=\"https://colab.research.google.com/github/jokerkeny/NPDBresearch/blob/main/NPDBresearchEDA.ipynb\" target=\"_parent\"><img src=\"https://colab.research.google.com/assets/colab-badge.svg\" alt=\"Open In Colab\"/></a>"
      ]
    },
    {
      "cell_type": "code",
      "metadata": {
        "colab": {
          "base_uri": "https://localhost:8080/"
        },
        "id": "N-XyKwqzeTnR",
        "outputId": "a31c8e5b-8b7b-4dd0-fea4-04f87ba8a064"
      },
      "source": [
        "# # This section is just for myself data loading. Just ignore it^_^ \n",
        "# from google.colab import drive\n",
        "# drive.mount('/content/drive')\n",
        "# !cp /content/drive/MyDrive/码上青楼/yy/万塔基/NPDBresearch/NPDB2101.CSV ./"
      ],
      "execution_count": 1,
      "outputs": [
        {
          "output_type": "stream",
          "text": [
            "Mounted at /content/drive\n"
          ],
          "name": "stdout"
        }
      ]
    },
    {
      "cell_type": "markdown",
      "metadata": {
        "id": "VE21hZ5UcVI1"
      },
      "source": [
        "# EDA\n",
        "This is just a primitive analysis of the NPDB data."
      ]
    },
    {
      "cell_type": "markdown",
      "metadata": {
        "id": "dFe4ypbRcVI4"
      },
      "source": [
        "## Data Loading\n",
        "\n",
        "The data could be downloaded from [NPDB](https://www.npdb.hrsa.gov/resources/publicData.jsp), put it under the folder with the notebook.  \n",
        "Alternatively, you can just run the following code to download it from S3, where I previously uploaded onto for convenience. "
      ]
    },
    {
      "cell_type": "code",
      "metadata": {
        "colab": {
          "base_uri": "https://localhost:8080/"
        },
        "id": "leQ6ju9-cVI5",
        "outputId": "4be4ab58-3df4-41c7-92bf-e55de684b13d"
      },
      "source": [
        "import os\n",
        "import requests\n",
        "import pandas as pd\n",
        "import numpy as np\n",
        "import seaborn as sns\n",
        "import plotly.express as px\n",
        "\n",
        "# if there is no data file in current folder, it will try to download it from S3. \n",
        "# Actually I can compress/decompress it using bz2. \n",
        "if not os.path.isfile(\"./NPDB2101.CSV\"):\n",
        "    print(\"Beginning file download with requests\")\n",
        "    print(\"The data file is 184 MB, so it may takes tens of seconds to download it depending on your Internet speed\")\n",
        "    url = \"https://kenyang.s3.amazonaws.com/DEchallenge/NPDB2101.CSV\"\n",
        "    r = requests.get(url)\n",
        "    with open(\"NPDB2101.CSV\", \"wb\") as f:\n",
        "        f.write(r.content)\n",
        "\n",
        "df = pd.read_csv(\"./NPDB2101.CSV\")"
      ],
      "execution_count": 25,
      "outputs": [
        {
          "output_type": "stream",
          "text": [
            "/usr/local/lib/python3.7/dist-packages/IPython/core/interactiveshell.py:2718: DtypeWarning: Columns (18,19,20,22,23,25,26,33,34,35,36,37,38) have mixed types.Specify dtype option on import or set low_memory=False.\n",
            "  interactivity=interactivity, compiler=compiler, result=result)\n"
          ],
          "name": "stderr"
        }
      ]
    },
    {
      "cell_type": "markdown",
      "metadata": {
        "id": "xHVmXSS5cVI6"
      },
      "source": [
        "## Variables and Data Cleaning"
      ]
    },
    {
      "cell_type": "code",
      "metadata": {
        "colab": {
          "base_uri": "https://localhost:8080/"
        },
        "id": "DnHZkBHSEBbn",
        "outputId": "9a2f445d-49f5-422b-8a0b-b10b47acbabd"
      },
      "source": [
        "len(df.columns)"
      ],
      "execution_count": 26,
      "outputs": [
        {
          "output_type": "execute_result",
          "data": {
            "text/plain": [
              "54"
            ]
          },
          "metadata": {
            "tags": []
          },
          "execution_count": 26
        }
      ]
    },
    {
      "cell_type": "code",
      "metadata": {
        "colab": {
          "base_uri": "https://localhost:8080/"
        },
        "id": "Xo1Tz482FcUh",
        "outputId": "760442cc-6a3d-48f0-d1a0-1a4e7cc9e7ba"
      },
      "source": [
        "len(df)"
      ],
      "execution_count": 27,
      "outputs": [
        {
          "output_type": "execute_result",
          "data": {
            "text/plain": [
              "1572231"
            ]
          },
          "metadata": {
            "tags": []
          },
          "execution_count": 27
        }
      ]
    },
    {
      "cell_type": "markdown",
      "metadata": {
        "id": "GaPvEc74ECyb"
      },
      "source": [
        "We can see, there are 54 columns, 1572231 rows in the dataset. \n",
        "\n",
        "Following briefly list the variables' meaning. \n",
        "\n",
        "For variables' detail, see *PublicUseDataFile-Format.pdf* . Reading this document would give out better understanding of all variables."
      ]
    },
    {
      "cell_type": "markdown",
      "metadata": {
        "id": "FsCo3vZlCGvn"
      },
      "source": [
        "Variable |Type |Variable Label \n",
        "--|--|--\n",
        "seqno |Numeric |Sequence Number -- Unique to Each Record \n",
        "rectype |String |Record Type \n",
        "reptype |Numeric |Report Type \n",
        "origyear |Numeric |Year original report processed \n",
        "workstat |String |Practitioners Work State \n",
        "workctry |String |Practitioners Work Country \n",
        "homestat |String |Practitioners Home State \n",
        "homectry |String |Practitioners Home Country \n",
        "licnstat |String |Practitioners State of License (First Listed) \n",
        "licnfeld |Numeric |Practitioners Field of License \n",
        "practage |Numeric |Age Group of Practitioner \n",
        "grad |Numeric |Graduation year group \n",
        "algnnatr |Numeric |Malpractice Allegation Group \n",
        "alegatn1 |Numeric |Specific Malpractice Allegation 1 \n",
        "alegatn2 |Numeric |Specific Malpractice Allegation 2 \n",
        "outcome |Numeric |Severity of Alleged Malpractice Injury [available for use1/31/2004]\n",
        "malyear1 |Numeric |Year of Act or Omission 1 \n",
        "malyear2 |Numeric |Year of Act or Omission 2 \n",
        "payment |Dollar |Payment Amount (this payment only) \n",
        "totalpmt |Dollar |Total Payment by this Payer for This Practitioner[available for use 1/31/2004]\n",
        "paynumbr |String |Single of Multiple Payment \n",
        "numbprsn |Numeric |Number of Practitioners Payment For \n",
        "paytype |String |Payment A Result of ... \n",
        "pyrrltns |String |Relationship of Paying Entity to the Practitioner[available for use 1/31/2004]\n",
        "ptage |Numeric |Age Group of Patient [available for use 1/31/2004] \n",
        "ptgender |String |Gender of Patient [available for use 1/31/2004] \n",
        "pttype |String |Patient Type (Inpatient, Outpatient) \n",
        "aayear |Numeric |Year of Adverse Action \n",
        "aaclass1 |Numeric |Adverse Action Classification1 [available for use11/22/1999/old records converted]\n",
        "aaclass2 |Numeric |Adverse Action Classification2 [available for use11/22/1999]\n",
        "aaclass3 |Numeric |Adverse Action Classification3 [available for use11/22/1999]\n",
        "aaclass4 |Numeric |Adverse Action Classification4 [available for use11/22/1999]\n",
        "aaclass5 |Numeric |Adverse Action Classification5 [available for use11/22/1999]\n",
        "basiscd1 |String |Basis for Action [available for use 11/22/1999] \n",
        "basiscd2 |String |Basis for Action2 [available for use 11/22/1999] \n",
        "basiscd3 |String |Basis for Action3 [available for use 11/22/1999] \n",
        "basiscd4 |String |Basis for Action4 [available for use 11/22/1999] \n",
        "basiscd5 |String |Basis for Action5 [available for use 9/9/2002] \n",
        "aalentyp |String |Adverse Action Length Type \n",
        "aalength |Numeric |Length of Adverse Action Penalty, in Years \n",
        "aaefyear |Numeric |Effective Year of Adverse Action \n",
        "aasigyr |Numeric |Year of AA Report Signature \n",
        "type |Numeric |Entity Type (assigned) \n",
        "practnum |Numeric |Practitioner Number Unique to This File \n",
        "accrrpts |Numeric |Subjects Number of Accreditation Reports \n",
        "npmalrpt |Numeric |Practitioners Number of Malpractice Payment Reportssubmitted under Title IV.\n",
        "nplicrpt |Numeric |Practitioners Number of Licensure Reports submittedunder Title IV and/or Section 1921\n",
        "npclprpt |Numeric |Practitioners Number of Clinical Privileges Reportssubmitted under Title IV\n",
        "nppsmrpt |Numeric |Practitioners Number of Prof. Soc. Membership Reportssubmitted under Title IV\n",
        "npdearpt |Numeric |Practitioners Number of DEA Reports submitted underTitle IV\n",
        "npexcrpt |Numeric |Practitioners Number of Exclusion Reports submittedunder Title IV and/or Section 1921\n",
        "npgarpt |Numeric |Practitioners Number of Government AdministrativeReports submitted under Section 1921\n",
        "npctmrpt |Numeric |Practitioners Number of Contract Termination Reportssubmitted under Section 1921\n",
        "fundpymt |Numeric |State Patient Compensation, etc., Fund Payment \n"
      ]
    },
    {
      "cell_type": "markdown",
      "metadata": {
        "id": "oUca1p77U8PJ"
      },
      "source": [
        "### Distribution and missing data"
      ]
    },
    {
      "cell_type": "markdown",
      "metadata": {
        "id": "vBdIh7EfD3sY"
      },
      "source": [
        "First, let's have a glance at the data type, distribution, any missing data. Then we can decide whether to perform a Data Cleaning."
      ]
    },
    {
      "cell_type": "code",
      "metadata": {
        "id": "7YjBeG7PA5rR"
      },
      "source": [
        "# suppress the scientific notation, to make it more readable\n",
        "pd.set_option('display.float_format', lambda x: '%.3f' % x)"
      ],
      "execution_count": 28,
      "outputs": []
    },
    {
      "cell_type": "code",
      "metadata": {
        "colab": {
          "base_uri": "https://localhost:8080/",
          "height": 224
        },
        "id": "oe_rM9kmfV73",
        "outputId": "e8f02219-b68f-414d-b7a8-f1cd602fd3ed"
      },
      "source": [
        "df.head()"
      ],
      "execution_count": 29,
      "outputs": [
        {
          "output_type": "execute_result",
          "data": {
            "text/html": [
              "<div>\n",
              "<style scoped>\n",
              "    .dataframe tbody tr th:only-of-type {\n",
              "        vertical-align: middle;\n",
              "    }\n",
              "\n",
              "    .dataframe tbody tr th {\n",
              "        vertical-align: top;\n",
              "    }\n",
              "\n",
              "    .dataframe thead th {\n",
              "        text-align: right;\n",
              "    }\n",
              "</style>\n",
              "<table border=\"1\" class=\"dataframe\">\n",
              "  <thead>\n",
              "    <tr style=\"text-align: right;\">\n",
              "      <th></th>\n",
              "      <th>SEQNO</th>\n",
              "      <th>RECTYPE</th>\n",
              "      <th>REPTYPE</th>\n",
              "      <th>ORIGYEAR</th>\n",
              "      <th>WORKSTAT</th>\n",
              "      <th>WORKCTRY</th>\n",
              "      <th>HOMESTAT</th>\n",
              "      <th>HOMECTRY</th>\n",
              "      <th>LICNSTAT</th>\n",
              "      <th>LICNFELD</th>\n",
              "      <th>PRACTAGE</th>\n",
              "      <th>GRAD</th>\n",
              "      <th>ALGNNATR</th>\n",
              "      <th>ALEGATN1</th>\n",
              "      <th>ALEGATN2</th>\n",
              "      <th>OUTCOME</th>\n",
              "      <th>MALYEAR1</th>\n",
              "      <th>MALYEAR2</th>\n",
              "      <th>PAYMENT</th>\n",
              "      <th>TOTALPMT</th>\n",
              "      <th>PAYNUMBR</th>\n",
              "      <th>NUMBPRSN</th>\n",
              "      <th>PAYTYPE</th>\n",
              "      <th>PYRRLTNS</th>\n",
              "      <th>PTAGE</th>\n",
              "      <th>PTGENDER</th>\n",
              "      <th>PTTYPE</th>\n",
              "      <th>AAYEAR</th>\n",
              "      <th>AACLASS1</th>\n",
              "      <th>AACLASS2</th>\n",
              "      <th>AACLASS3</th>\n",
              "      <th>AACLASS4</th>\n",
              "      <th>AACLASS5</th>\n",
              "      <th>BASISCD1</th>\n",
              "      <th>BASISCD2</th>\n",
              "      <th>BASISCD3</th>\n",
              "      <th>BASISCD4</th>\n",
              "      <th>BASISCD5</th>\n",
              "      <th>AALENTYP</th>\n",
              "      <th>AALENGTH</th>\n",
              "      <th>AAEFYEAR</th>\n",
              "      <th>AASIGYR</th>\n",
              "      <th>TYPE</th>\n",
              "      <th>PRACTNUM</th>\n",
              "      <th>ACCRRPTS</th>\n",
              "      <th>NPMALRPT</th>\n",
              "      <th>NPLICRPT</th>\n",
              "      <th>NPCLPRPT</th>\n",
              "      <th>NPPSMRPT</th>\n",
              "      <th>NPDEARPT</th>\n",
              "      <th>NPEXCRPT</th>\n",
              "      <th>NPGARPT</th>\n",
              "      <th>NPCTMRPT</th>\n",
              "      <th>FUNDPYMT</th>\n",
              "    </tr>\n",
              "  </thead>\n",
              "  <tbody>\n",
              "    <tr>\n",
              "      <th>0</th>\n",
              "      <td>1</td>\n",
              "      <td>A</td>\n",
              "      <td>301</td>\n",
              "      <td>1991</td>\n",
              "      <td>OK</td>\n",
              "      <td>nan</td>\n",
              "      <td>NaN</td>\n",
              "      <td>nan</td>\n",
              "      <td>OK</td>\n",
              "      <td>10</td>\n",
              "      <td>60.000</td>\n",
              "      <td>1950.000</td>\n",
              "      <td>nan</td>\n",
              "      <td>nan</td>\n",
              "      <td>nan</td>\n",
              "      <td>nan</td>\n",
              "      <td>nan</td>\n",
              "      <td>nan</td>\n",
              "      <td>NaN</td>\n",
              "      <td>NaN</td>\n",
              "      <td>NaN</td>\n",
              "      <td>0.000</td>\n",
              "      <td>NaN</td>\n",
              "      <td>NaN</td>\n",
              "      <td>nan</td>\n",
              "      <td>NaN</td>\n",
              "      <td>NaN</td>\n",
              "      <td>1990.000</td>\n",
              "      <td>1125.000</td>\n",
              "      <td>nan</td>\n",
              "      <td>nan</td>\n",
              "      <td>nan</td>\n",
              "      <td>nan</td>\n",
              "      <td>3</td>\n",
              "      <td>NaN</td>\n",
              "      <td>NaN</td>\n",
              "      <td>NaN</td>\n",
              "      <td>NaN</td>\n",
              "      <td>S</td>\n",
              "      <td>3.000</td>\n",
              "      <td>1990.000</td>\n",
              "      <td>1990.000</td>\n",
              "      <td>300</td>\n",
              "      <td>31049</td>\n",
              "      <td>0</td>\n",
              "      <td>0</td>\n",
              "      <td>2</td>\n",
              "      <td>0</td>\n",
              "      <td>0</td>\n",
              "      <td>0</td>\n",
              "      <td>0</td>\n",
              "      <td>0</td>\n",
              "      <td>0</td>\n",
              "      <td>nan</td>\n",
              "    </tr>\n",
              "    <tr>\n",
              "      <th>1</th>\n",
              "      <td>2</td>\n",
              "      <td>A</td>\n",
              "      <td>301</td>\n",
              "      <td>1991</td>\n",
              "      <td>OK</td>\n",
              "      <td>nan</td>\n",
              "      <td>NaN</td>\n",
              "      <td>nan</td>\n",
              "      <td>OK</td>\n",
              "      <td>10</td>\n",
              "      <td>40.000</td>\n",
              "      <td>1960.000</td>\n",
              "      <td>nan</td>\n",
              "      <td>nan</td>\n",
              "      <td>nan</td>\n",
              "      <td>nan</td>\n",
              "      <td>nan</td>\n",
              "      <td>nan</td>\n",
              "      <td>NaN</td>\n",
              "      <td>NaN</td>\n",
              "      <td>NaN</td>\n",
              "      <td>0.000</td>\n",
              "      <td>NaN</td>\n",
              "      <td>NaN</td>\n",
              "      <td>nan</td>\n",
              "      <td>NaN</td>\n",
              "      <td>NaN</td>\n",
              "      <td>1990.000</td>\n",
              "      <td>1125.000</td>\n",
              "      <td>nan</td>\n",
              "      <td>nan</td>\n",
              "      <td>nan</td>\n",
              "      <td>nan</td>\n",
              "      <td>3</td>\n",
              "      <td>NaN</td>\n",
              "      <td>NaN</td>\n",
              "      <td>NaN</td>\n",
              "      <td>NaN</td>\n",
              "      <td>S</td>\n",
              "      <td>5.000</td>\n",
              "      <td>1990.000</td>\n",
              "      <td>1990.000</td>\n",
              "      <td>300</td>\n",
              "      <td>30890</td>\n",
              "      <td>0</td>\n",
              "      <td>0</td>\n",
              "      <td>7</td>\n",
              "      <td>0</td>\n",
              "      <td>0</td>\n",
              "      <td>0</td>\n",
              "      <td>1</td>\n",
              "      <td>0</td>\n",
              "      <td>0</td>\n",
              "      <td>nan</td>\n",
              "    </tr>\n",
              "    <tr>\n",
              "      <th>2</th>\n",
              "      <td>4</td>\n",
              "      <td>A</td>\n",
              "      <td>301</td>\n",
              "      <td>1991</td>\n",
              "      <td>MA</td>\n",
              "      <td>nan</td>\n",
              "      <td>NaN</td>\n",
              "      <td>nan</td>\n",
              "      <td>MA</td>\n",
              "      <td>15</td>\n",
              "      <td>30.000</td>\n",
              "      <td>1980.000</td>\n",
              "      <td>nan</td>\n",
              "      <td>nan</td>\n",
              "      <td>nan</td>\n",
              "      <td>nan</td>\n",
              "      <td>nan</td>\n",
              "      <td>nan</td>\n",
              "      <td>NaN</td>\n",
              "      <td>NaN</td>\n",
              "      <td>NaN</td>\n",
              "      <td>0.000</td>\n",
              "      <td>NaN</td>\n",
              "      <td>NaN</td>\n",
              "      <td>nan</td>\n",
              "      <td>NaN</td>\n",
              "      <td>NaN</td>\n",
              "      <td>1990.000</td>\n",
              "      <td>1110.000</td>\n",
              "      <td>nan</td>\n",
              "      <td>nan</td>\n",
              "      <td>nan</td>\n",
              "      <td>nan</td>\n",
              "      <td>99</td>\n",
              "      <td>NaN</td>\n",
              "      <td>NaN</td>\n",
              "      <td>NaN</td>\n",
              "      <td>NaN</td>\n",
              "      <td>P</td>\n",
              "      <td>nan</td>\n",
              "      <td>1990.000</td>\n",
              "      <td>1990.000</td>\n",
              "      <td>300</td>\n",
              "      <td>16981</td>\n",
              "      <td>0</td>\n",
              "      <td>1</td>\n",
              "      <td>1</td>\n",
              "      <td>0</td>\n",
              "      <td>0</td>\n",
              "      <td>0</td>\n",
              "      <td>2</td>\n",
              "      <td>0</td>\n",
              "      <td>0</td>\n",
              "      <td>nan</td>\n",
              "    </tr>\n",
              "    <tr>\n",
              "      <th>3</th>\n",
              "      <td>6</td>\n",
              "      <td>A</td>\n",
              "      <td>301</td>\n",
              "      <td>1990</td>\n",
              "      <td>OK</td>\n",
              "      <td>nan</td>\n",
              "      <td>NaN</td>\n",
              "      <td>nan</td>\n",
              "      <td>OK</td>\n",
              "      <td>10</td>\n",
              "      <td>40.000</td>\n",
              "      <td>1970.000</td>\n",
              "      <td>nan</td>\n",
              "      <td>nan</td>\n",
              "      <td>nan</td>\n",
              "      <td>nan</td>\n",
              "      <td>nan</td>\n",
              "      <td>nan</td>\n",
              "      <td>NaN</td>\n",
              "      <td>NaN</td>\n",
              "      <td>NaN</td>\n",
              "      <td>0.000</td>\n",
              "      <td>NaN</td>\n",
              "      <td>NaN</td>\n",
              "      <td>nan</td>\n",
              "      <td>NaN</td>\n",
              "      <td>NaN</td>\n",
              "      <td>1990.000</td>\n",
              "      <td>1125.000</td>\n",
              "      <td>nan</td>\n",
              "      <td>nan</td>\n",
              "      <td>nan</td>\n",
              "      <td>nan</td>\n",
              "      <td>1</td>\n",
              "      <td>NaN</td>\n",
              "      <td>NaN</td>\n",
              "      <td>NaN</td>\n",
              "      <td>NaN</td>\n",
              "      <td>S</td>\n",
              "      <td>5.000</td>\n",
              "      <td>1990.000</td>\n",
              "      <td>1990.000</td>\n",
              "      <td>300</td>\n",
              "      <td>31021</td>\n",
              "      <td>0</td>\n",
              "      <td>0</td>\n",
              "      <td>2</td>\n",
              "      <td>0</td>\n",
              "      <td>0</td>\n",
              "      <td>0</td>\n",
              "      <td>0</td>\n",
              "      <td>0</td>\n",
              "      <td>0</td>\n",
              "      <td>nan</td>\n",
              "    </tr>\n",
              "    <tr>\n",
              "      <th>4</th>\n",
              "      <td>8</td>\n",
              "      <td>A</td>\n",
              "      <td>301</td>\n",
              "      <td>1990</td>\n",
              "      <td>OK</td>\n",
              "      <td>nan</td>\n",
              "      <td>NaN</td>\n",
              "      <td>nan</td>\n",
              "      <td>OK</td>\n",
              "      <td>10</td>\n",
              "      <td>40.000</td>\n",
              "      <td>1970.000</td>\n",
              "      <td>nan</td>\n",
              "      <td>nan</td>\n",
              "      <td>nan</td>\n",
              "      <td>nan</td>\n",
              "      <td>nan</td>\n",
              "      <td>nan</td>\n",
              "      <td>NaN</td>\n",
              "      <td>NaN</td>\n",
              "      <td>NaN</td>\n",
              "      <td>0.000</td>\n",
              "      <td>NaN</td>\n",
              "      <td>NaN</td>\n",
              "      <td>nan</td>\n",
              "      <td>NaN</td>\n",
              "      <td>NaN</td>\n",
              "      <td>1990.000</td>\n",
              "      <td>1135.000</td>\n",
              "      <td>nan</td>\n",
              "      <td>nan</td>\n",
              "      <td>nan</td>\n",
              "      <td>nan</td>\n",
              "      <td>1</td>\n",
              "      <td>NaN</td>\n",
              "      <td>NaN</td>\n",
              "      <td>NaN</td>\n",
              "      <td>NaN</td>\n",
              "      <td>I</td>\n",
              "      <td>nan</td>\n",
              "      <td>1990.000</td>\n",
              "      <td>1990.000</td>\n",
              "      <td>300</td>\n",
              "      <td>30912</td>\n",
              "      <td>0</td>\n",
              "      <td>0</td>\n",
              "      <td>8</td>\n",
              "      <td>0</td>\n",
              "      <td>1</td>\n",
              "      <td>0</td>\n",
              "      <td>0</td>\n",
              "      <td>0</td>\n",
              "      <td>0</td>\n",
              "      <td>nan</td>\n",
              "    </tr>\n",
              "  </tbody>\n",
              "</table>\n",
              "</div>"
            ],
            "text/plain": [
              "   SEQNO RECTYPE  REPTYPE  ORIGYEAR  ... NPEXCRPT  NPGARPT NPCTMRPT  FUNDPYMT\n",
              "0      1       A      301      1991  ...        0        0        0       nan\n",
              "1      2       A      301      1991  ...        1        0        0       nan\n",
              "2      4       A      301      1991  ...        2        0        0       nan\n",
              "3      6       A      301      1990  ...        0        0        0       nan\n",
              "4      8       A      301      1990  ...        0        0        0       nan\n",
              "\n",
              "[5 rows x 54 columns]"
            ]
          },
          "metadata": {
            "tags": []
          },
          "execution_count": 29
        }
      ]
    },
    {
      "cell_type": "code",
      "metadata": {
        "colab": {
          "base_uri": "https://localhost:8080/",
          "height": 224
        },
        "id": "Q7ses8BtEut1",
        "outputId": "32cd0244-6425-4b88-ad86-91d906fd831b"
      },
      "source": [
        "df.tail()"
      ],
      "execution_count": 30,
      "outputs": [
        {
          "output_type": "execute_result",
          "data": {
            "text/html": [
              "<div>\n",
              "<style scoped>\n",
              "    .dataframe tbody tr th:only-of-type {\n",
              "        vertical-align: middle;\n",
              "    }\n",
              "\n",
              "    .dataframe tbody tr th {\n",
              "        vertical-align: top;\n",
              "    }\n",
              "\n",
              "    .dataframe thead th {\n",
              "        text-align: right;\n",
              "    }\n",
              "</style>\n",
              "<table border=\"1\" class=\"dataframe\">\n",
              "  <thead>\n",
              "    <tr style=\"text-align: right;\">\n",
              "      <th></th>\n",
              "      <th>SEQNO</th>\n",
              "      <th>RECTYPE</th>\n",
              "      <th>REPTYPE</th>\n",
              "      <th>ORIGYEAR</th>\n",
              "      <th>WORKSTAT</th>\n",
              "      <th>WORKCTRY</th>\n",
              "      <th>HOMESTAT</th>\n",
              "      <th>HOMECTRY</th>\n",
              "      <th>LICNSTAT</th>\n",
              "      <th>LICNFELD</th>\n",
              "      <th>PRACTAGE</th>\n",
              "      <th>GRAD</th>\n",
              "      <th>ALGNNATR</th>\n",
              "      <th>ALEGATN1</th>\n",
              "      <th>ALEGATN2</th>\n",
              "      <th>OUTCOME</th>\n",
              "      <th>MALYEAR1</th>\n",
              "      <th>MALYEAR2</th>\n",
              "      <th>PAYMENT</th>\n",
              "      <th>TOTALPMT</th>\n",
              "      <th>PAYNUMBR</th>\n",
              "      <th>NUMBPRSN</th>\n",
              "      <th>PAYTYPE</th>\n",
              "      <th>PYRRLTNS</th>\n",
              "      <th>PTAGE</th>\n",
              "      <th>PTGENDER</th>\n",
              "      <th>PTTYPE</th>\n",
              "      <th>AAYEAR</th>\n",
              "      <th>AACLASS1</th>\n",
              "      <th>AACLASS2</th>\n",
              "      <th>AACLASS3</th>\n",
              "      <th>AACLASS4</th>\n",
              "      <th>AACLASS5</th>\n",
              "      <th>BASISCD1</th>\n",
              "      <th>BASISCD2</th>\n",
              "      <th>BASISCD3</th>\n",
              "      <th>BASISCD4</th>\n",
              "      <th>BASISCD5</th>\n",
              "      <th>AALENTYP</th>\n",
              "      <th>AALENGTH</th>\n",
              "      <th>AAEFYEAR</th>\n",
              "      <th>AASIGYR</th>\n",
              "      <th>TYPE</th>\n",
              "      <th>PRACTNUM</th>\n",
              "      <th>ACCRRPTS</th>\n",
              "      <th>NPMALRPT</th>\n",
              "      <th>NPLICRPT</th>\n",
              "      <th>NPCLPRPT</th>\n",
              "      <th>NPPSMRPT</th>\n",
              "      <th>NPDEARPT</th>\n",
              "      <th>NPEXCRPT</th>\n",
              "      <th>NPGARPT</th>\n",
              "      <th>NPCTMRPT</th>\n",
              "      <th>FUNDPYMT</th>\n",
              "    </tr>\n",
              "  </thead>\n",
              "  <tbody>\n",
              "    <tr>\n",
              "      <th>1572226</th>\n",
              "      <td>1961424</td>\n",
              "      <td>C</td>\n",
              "      <td>302</td>\n",
              "      <td>2007</td>\n",
              "      <td>NaN</td>\n",
              "      <td>nan</td>\n",
              "      <td>FL</td>\n",
              "      <td>nan</td>\n",
              "      <td>CA</td>\n",
              "      <td>100</td>\n",
              "      <td>40.000</td>\n",
              "      <td>2000.000</td>\n",
              "      <td>nan</td>\n",
              "      <td>nan</td>\n",
              "      <td>nan</td>\n",
              "      <td>nan</td>\n",
              "      <td>nan</td>\n",
              "      <td>nan</td>\n",
              "      <td>NaN</td>\n",
              "      <td>NaN</td>\n",
              "      <td>NaN</td>\n",
              "      <td>0.000</td>\n",
              "      <td>NaN</td>\n",
              "      <td>NaN</td>\n",
              "      <td>nan</td>\n",
              "      <td>NaN</td>\n",
              "      <td>NaN</td>\n",
              "      <td>2004.000</td>\n",
              "      <td>1125.000</td>\n",
              "      <td>nan</td>\n",
              "      <td>nan</td>\n",
              "      <td>nan</td>\n",
              "      <td>nan</td>\n",
              "      <td>E3</td>\n",
              "      <td>F2</td>\n",
              "      <td>F5</td>\n",
              "      <td>H6</td>\n",
              "      <td>NaN</td>\n",
              "      <td>S</td>\n",
              "      <td>3.000</td>\n",
              "      <td>2004.000</td>\n",
              "      <td>2021.000</td>\n",
              "      <td>300</td>\n",
              "      <td>293258</td>\n",
              "      <td>0</td>\n",
              "      <td>0</td>\n",
              "      <td>5</td>\n",
              "      <td>0</td>\n",
              "      <td>0</td>\n",
              "      <td>0</td>\n",
              "      <td>1</td>\n",
              "      <td>0</td>\n",
              "      <td>0</td>\n",
              "      <td>nan</td>\n",
              "    </tr>\n",
              "    <tr>\n",
              "      <th>1572227</th>\n",
              "      <td>1961425</td>\n",
              "      <td>C</td>\n",
              "      <td>302</td>\n",
              "      <td>2021</td>\n",
              "      <td>NaN</td>\n",
              "      <td>nan</td>\n",
              "      <td>AL</td>\n",
              "      <td>nan</td>\n",
              "      <td>AL</td>\n",
              "      <td>100</td>\n",
              "      <td>30.000</td>\n",
              "      <td>2010.000</td>\n",
              "      <td>nan</td>\n",
              "      <td>nan</td>\n",
              "      <td>nan</td>\n",
              "      <td>nan</td>\n",
              "      <td>nan</td>\n",
              "      <td>nan</td>\n",
              "      <td>NaN</td>\n",
              "      <td>NaN</td>\n",
              "      <td>NaN</td>\n",
              "      <td>0.000</td>\n",
              "      <td>NaN</td>\n",
              "      <td>NaN</td>\n",
              "      <td>nan</td>\n",
              "      <td>NaN</td>\n",
              "      <td>NaN</td>\n",
              "      <td>2021.000</td>\n",
              "      <td>1173.000</td>\n",
              "      <td>1140.000</td>\n",
              "      <td>nan</td>\n",
              "      <td>nan</td>\n",
              "      <td>nan</td>\n",
              "      <td>29</td>\n",
              "      <td>NaN</td>\n",
              "      <td>NaN</td>\n",
              "      <td>NaN</td>\n",
              "      <td>NaN</td>\n",
              "      <td>I</td>\n",
              "      <td>nan</td>\n",
              "      <td>2012.000</td>\n",
              "      <td>2021.000</td>\n",
              "      <td>300</td>\n",
              "      <td>828172</td>\n",
              "      <td>0</td>\n",
              "      <td>0</td>\n",
              "      <td>1</td>\n",
              "      <td>0</td>\n",
              "      <td>0</td>\n",
              "      <td>0</td>\n",
              "      <td>0</td>\n",
              "      <td>0</td>\n",
              "      <td>0</td>\n",
              "      <td>nan</td>\n",
              "    </tr>\n",
              "    <tr>\n",
              "      <th>1572228</th>\n",
              "      <td>1961426</td>\n",
              "      <td>C</td>\n",
              "      <td>302</td>\n",
              "      <td>2017</td>\n",
              "      <td>NaN</td>\n",
              "      <td>nan</td>\n",
              "      <td>OR</td>\n",
              "      <td>nan</td>\n",
              "      <td>OR</td>\n",
              "      <td>100</td>\n",
              "      <td>40.000</td>\n",
              "      <td>1990.000</td>\n",
              "      <td>nan</td>\n",
              "      <td>nan</td>\n",
              "      <td>nan</td>\n",
              "      <td>nan</td>\n",
              "      <td>nan</td>\n",
              "      <td>nan</td>\n",
              "      <td>NaN</td>\n",
              "      <td>NaN</td>\n",
              "      <td>NaN</td>\n",
              "      <td>0.000</td>\n",
              "      <td>NaN</td>\n",
              "      <td>NaN</td>\n",
              "      <td>nan</td>\n",
              "      <td>NaN</td>\n",
              "      <td>NaN</td>\n",
              "      <td>2017.000</td>\n",
              "      <td>1173.000</td>\n",
              "      <td>nan</td>\n",
              "      <td>nan</td>\n",
              "      <td>nan</td>\n",
              "      <td>nan</td>\n",
              "      <td>24</td>\n",
              "      <td>NaN</td>\n",
              "      <td>NaN</td>\n",
              "      <td>NaN</td>\n",
              "      <td>NaN</td>\n",
              "      <td>NaN</td>\n",
              "      <td>nan</td>\n",
              "      <td>2017.000</td>\n",
              "      <td>2021.000</td>\n",
              "      <td>300</td>\n",
              "      <td>718771</td>\n",
              "      <td>0</td>\n",
              "      <td>0</td>\n",
              "      <td>1</td>\n",
              "      <td>0</td>\n",
              "      <td>0</td>\n",
              "      <td>0</td>\n",
              "      <td>0</td>\n",
              "      <td>0</td>\n",
              "      <td>0</td>\n",
              "      <td>nan</td>\n",
              "    </tr>\n",
              "    <tr>\n",
              "      <th>1572229</th>\n",
              "      <td>1961427</td>\n",
              "      <td>C</td>\n",
              "      <td>302</td>\n",
              "      <td>2020</td>\n",
              "      <td>NaN</td>\n",
              "      <td>nan</td>\n",
              "      <td>OR</td>\n",
              "      <td>nan</td>\n",
              "      <td>OR</td>\n",
              "      <td>100</td>\n",
              "      <td>70.000</td>\n",
              "      <td>1990.000</td>\n",
              "      <td>nan</td>\n",
              "      <td>nan</td>\n",
              "      <td>nan</td>\n",
              "      <td>nan</td>\n",
              "      <td>nan</td>\n",
              "      <td>nan</td>\n",
              "      <td>NaN</td>\n",
              "      <td>NaN</td>\n",
              "      <td>NaN</td>\n",
              "      <td>0.000</td>\n",
              "      <td>NaN</td>\n",
              "      <td>NaN</td>\n",
              "      <td>nan</td>\n",
              "      <td>NaN</td>\n",
              "      <td>NaN</td>\n",
              "      <td>2020.000</td>\n",
              "      <td>1150.000</td>\n",
              "      <td>nan</td>\n",
              "      <td>nan</td>\n",
              "      <td>nan</td>\n",
              "      <td>nan</td>\n",
              "      <td>99</td>\n",
              "      <td>A6</td>\n",
              "      <td>NaN</td>\n",
              "      <td>NaN</td>\n",
              "      <td>NaN</td>\n",
              "      <td>I</td>\n",
              "      <td>nan</td>\n",
              "      <td>2020.000</td>\n",
              "      <td>2021.000</td>\n",
              "      <td>300</td>\n",
              "      <td>809937</td>\n",
              "      <td>0</td>\n",
              "      <td>0</td>\n",
              "      <td>2</td>\n",
              "      <td>0</td>\n",
              "      <td>0</td>\n",
              "      <td>0</td>\n",
              "      <td>0</td>\n",
              "      <td>0</td>\n",
              "      <td>0</td>\n",
              "      <td>nan</td>\n",
              "    </tr>\n",
              "    <tr>\n",
              "      <th>1572230</th>\n",
              "      <td>1961428</td>\n",
              "      <td>C</td>\n",
              "      <td>302</td>\n",
              "      <td>2020</td>\n",
              "      <td>NaN</td>\n",
              "      <td>nan</td>\n",
              "      <td>OR</td>\n",
              "      <td>nan</td>\n",
              "      <td>OR</td>\n",
              "      <td>100</td>\n",
              "      <td>30.000</td>\n",
              "      <td>2000.000</td>\n",
              "      <td>nan</td>\n",
              "      <td>nan</td>\n",
              "      <td>nan</td>\n",
              "      <td>nan</td>\n",
              "      <td>nan</td>\n",
              "      <td>nan</td>\n",
              "      <td>NaN</td>\n",
              "      <td>NaN</td>\n",
              "      <td>NaN</td>\n",
              "      <td>0.000</td>\n",
              "      <td>NaN</td>\n",
              "      <td>NaN</td>\n",
              "      <td>nan</td>\n",
              "      <td>NaN</td>\n",
              "      <td>NaN</td>\n",
              "      <td>2020.000</td>\n",
              "      <td>1150.000</td>\n",
              "      <td>nan</td>\n",
              "      <td>nan</td>\n",
              "      <td>nan</td>\n",
              "      <td>nan</td>\n",
              "      <td>99</td>\n",
              "      <td>F2</td>\n",
              "      <td>F6</td>\n",
              "      <td>NaN</td>\n",
              "      <td>NaN</td>\n",
              "      <td>I</td>\n",
              "      <td>nan</td>\n",
              "      <td>2020.000</td>\n",
              "      <td>2021.000</td>\n",
              "      <td>300</td>\n",
              "      <td>818140</td>\n",
              "      <td>0</td>\n",
              "      <td>0</td>\n",
              "      <td>2</td>\n",
              "      <td>0</td>\n",
              "      <td>0</td>\n",
              "      <td>0</td>\n",
              "      <td>0</td>\n",
              "      <td>0</td>\n",
              "      <td>0</td>\n",
              "      <td>nan</td>\n",
              "    </tr>\n",
              "  </tbody>\n",
              "</table>\n",
              "</div>"
            ],
            "text/plain": [
              "           SEQNO RECTYPE  REPTYPE  ...  NPGARPT NPCTMRPT  FUNDPYMT\n",
              "1572226  1961424       C      302  ...        0        0       nan\n",
              "1572227  1961425       C      302  ...        0        0       nan\n",
              "1572228  1961426       C      302  ...        0        0       nan\n",
              "1572229  1961427       C      302  ...        0        0       nan\n",
              "1572230  1961428       C      302  ...        0        0       nan\n",
              "\n",
              "[5 rows x 54 columns]"
            ]
          },
          "metadata": {
            "tags": []
          },
          "execution_count": 30
        }
      ]
    },
    {
      "cell_type": "code",
      "metadata": {
        "colab": {
          "base_uri": "https://localhost:8080/"
        },
        "id": "SDni0XuGcVI7",
        "outputId": "a0b8a000-7098-4e3a-ad09-ea05e0a79795"
      },
      "source": [
        "df.info()"
      ],
      "execution_count": 31,
      "outputs": [
        {
          "output_type": "stream",
          "text": [
            "<class 'pandas.core.frame.DataFrame'>\n",
            "RangeIndex: 1572231 entries, 0 to 1572230\n",
            "Data columns (total 54 columns):\n",
            " #   Column    Non-Null Count    Dtype  \n",
            "---  ------    --------------    -----  \n",
            " 0   SEQNO     1572231 non-null  int64  \n",
            " 1   RECTYPE   1572231 non-null  object \n",
            " 2   REPTYPE   1572231 non-null  int64  \n",
            " 3   ORIGYEAR  1572231 non-null  int64  \n",
            " 4   WORKSTAT  705096 non-null   object \n",
            " 5   WORKCTRY  0 non-null        float64\n",
            " 6   HOMESTAT  1114032 non-null  object \n",
            " 7   HOMECTRY  0 non-null        float64\n",
            " 8   LICNSTAT  1436376 non-null  object \n",
            " 9   LICNFELD  1572231 non-null  int64  \n",
            " 10  PRACTAGE  1525227 non-null  float64\n",
            " 11  GRAD      1368863 non-null  float64\n",
            " 12  ALGNNATR  476603 non-null   float64\n",
            " 13  ALEGATN1  476603 non-null   float64\n",
            " 14  ALEGATN2  66323 non-null    float64\n",
            " 15  OUTCOME   226100 non-null   float64\n",
            " 16  MALYEAR1  476153 non-null   float64\n",
            " 17  MALYEAR2  86582 non-null    float64\n",
            " 18  PAYMENT   476748 non-null   object \n",
            " 19  TOTALPMT  226100 non-null   object \n",
            " 20  PAYNUMBR  476760 non-null   object \n",
            " 21  NUMBPRSN  1561441 non-null  float64\n",
            " 22  PAYTYPE   476774 non-null   object \n",
            " 23  PYRRLTNS  476774 non-null   object \n",
            " 24  PTAGE     217186 non-null   float64\n",
            " 25  PTGENDER  226100 non-null   object \n",
            " 26  PTTYPE    226100 non-null   object \n",
            " 27  AAYEAR    1095457 non-null  float64\n",
            " 28  AACLASS1  1095457 non-null  float64\n",
            " 29  AACLASS2  164252 non-null   float64\n",
            " 30  AACLASS3  28921 non-null    float64\n",
            " 31  AACLASS4  2986 non-null     float64\n",
            " 32  AACLASS5  330 non-null      float64\n",
            " 33  BASISCD1  1075102 non-null  object \n",
            " 34  BASISCD2  416441 non-null   object \n",
            " 35  BASISCD3  298735 non-null   object \n",
            " 36  BASISCD4  252478 non-null   object \n",
            " 37  BASISCD5  235836 non-null   object \n",
            " 38  AALENTYP  925384 non-null   object \n",
            " 39  AALENGTH  214495 non-null   float64\n",
            " 40  AAEFYEAR  1095449 non-null  float64\n",
            " 41  AASIGYR   1022851 non-null  float64\n",
            " 42  TYPE      1572231 non-null  int64  \n",
            " 43  PRACTNUM  1572231 non-null  int64  \n",
            " 44  ACCRRPTS  1572231 non-null  int64  \n",
            " 45  NPMALRPT  1572231 non-null  int64  \n",
            " 46  NPLICRPT  1572231 non-null  int64  \n",
            " 47  NPCLPRPT  1572231 non-null  int64  \n",
            " 48  NPPSMRPT  1572231 non-null  int64  \n",
            " 49  NPDEARPT  1572231 non-null  int64  \n",
            " 50  NPEXCRPT  1572231 non-null  int64  \n",
            " 51  NPGARPT   1572231 non-null  int64  \n",
            " 52  NPCTMRPT  1572231 non-null  int64  \n",
            " 53  FUNDPYMT  476774 non-null   float64\n",
            "dtypes: float64(22), int64(15), object(17)\n",
            "memory usage: 647.7+ MB\n"
          ],
          "name": "stdout"
        }
      ]
    },
    {
      "cell_type": "markdown",
      "metadata": {
        "id": "l3RzGfywISke"
      },
      "source": [
        "We can see, the WORKCTRY and HOMECTRY are all null, then these 2 columns could be deleted. Just assume all records are based in United States."
      ]
    },
    {
      "cell_type": "code",
      "metadata": {
        "id": "tqGZnrViKVKq"
      },
      "source": [
        "# delete column WORKCTRY and WORKCTRY\n",
        "try:\n",
        "  del df['HOMECTRY']\n",
        "  del df['WORKCTRY']\n",
        "except:\n",
        "  pass"
      ],
      "execution_count": 32,
      "outputs": []
    },
    {
      "cell_type": "markdown",
      "metadata": {
        "id": "9-MfOqkbNm5v"
      },
      "source": [
        "Still, there are a lot of null values in other columns. But some of them are optional, some of them are subject to time changes, some of them may only appear in specific RECTYPE, for example, ALEGATN is not available for Adverse Action records. \n",
        "\n"
      ]
    },
    {
      "cell_type": "markdown",
      "metadata": {
        "id": "VeWgtZiqUx01"
      },
      "source": [
        "WORKSTAT and HOMESTAT are examples of optional variables.\n",
        "\n",
        "Although about half WORKSTAT are missing as it isn't a required variable in report, we can use HOMESTAT instead if needed. We can even use LICNSTAT but not recommended as LICNSTAT usually related to other usage. "
      ]
    },
    {
      "cell_type": "code",
      "metadata": {
        "colab": {
          "base_uri": "https://localhost:8080/"
        },
        "id": "qjeOaOjXTUNM",
        "outputId": "82034ee0-4209-497f-c8bf-ae80b963c414"
      },
      "source": [
        "print(\"WORKSTAT nulls: \", df['WORKSTAT'].isnull().sum())\n",
        "print(\"HOMESTAT nulls: \", df['HOMESTAT'].isnull().sum())\n",
        "print(\"Both nulls: \", (df['WORKSTAT'].isnull() & df['HOMESTAT'].isnull()).sum())\n",
        "print(\"3 col all nulls: \", (df['WORKSTAT'].isnull() & df['HOMESTAT'].isnull() & df['LICNSTAT'].isnull()).sum()) "
      ],
      "execution_count": 33,
      "outputs": [
        {
          "output_type": "stream",
          "text": [
            "WORKSTAT nulls:  867135\n",
            "HOMESTAT nulls:  458199\n",
            "Both nulls:  3423\n",
            "3 col all nulls:  118\n"
          ],
          "name": "stdout"
        }
      ]
    },
    {
      "cell_type": "code",
      "metadata": {
        "colab": {
          "base_uri": "https://localhost:8080/"
        },
        "id": "UHSGxU5dNmmu",
        "outputId": "e4ecfa1d-14c4-4365-eb24-e38ade633199"
      },
      "source": [
        "# create a new column 'STATE' combining WORKSTAT and HOMESTAT\n",
        "df['STATE'] = df['WORKSTAT']\n",
        "df['STATE'][df['WORKSTAT'].isnull()] = df['HOMESTAT']"
      ],
      "execution_count": 34,
      "outputs": [
        {
          "output_type": "stream",
          "text": [
            "/usr/local/lib/python3.7/dist-packages/ipykernel_launcher.py:3: SettingWithCopyWarning: \n",
            "A value is trying to be set on a copy of a slice from a DataFrame\n",
            "\n",
            "See the caveats in the documentation: https://pandas.pydata.org/pandas-docs/stable/user_guide/indexing.html#returning-a-view-versus-a-copy\n",
            "  This is separate from the ipykernel package so we can avoid doing imports until\n"
          ],
          "name": "stderr"
        }
      ]
    },
    {
      "cell_type": "markdown",
      "metadata": {
        "id": "WNtbeJIDO7No"
      },
      "source": [
        "And required columns like RECTYPE, REPTYPE, ORIGYEAR, PRACTNUM, etc. are totally filled with 1572231 rows. Thus, the dataset seems pretty complete, at least from the missing value perspective."
      ]
    },
    {
      "cell_type": "code",
      "metadata": {
        "colab": {
          "base_uri": "https://localhost:8080/",
          "height": 317
        },
        "id": "Qw9lrUfZcVI7",
        "outputId": "60bbaa2e-536e-4b64-f777-d51bff9b814b"
      },
      "source": [
        "df.describe()"
      ],
      "execution_count": 35,
      "outputs": [
        {
          "output_type": "execute_result",
          "data": {
            "text/html": [
              "<div>\n",
              "<style scoped>\n",
              "    .dataframe tbody tr th:only-of-type {\n",
              "        vertical-align: middle;\n",
              "    }\n",
              "\n",
              "    .dataframe tbody tr th {\n",
              "        vertical-align: top;\n",
              "    }\n",
              "\n",
              "    .dataframe thead th {\n",
              "        text-align: right;\n",
              "    }\n",
              "</style>\n",
              "<table border=\"1\" class=\"dataframe\">\n",
              "  <thead>\n",
              "    <tr style=\"text-align: right;\">\n",
              "      <th></th>\n",
              "      <th>SEQNO</th>\n",
              "      <th>REPTYPE</th>\n",
              "      <th>ORIGYEAR</th>\n",
              "      <th>LICNFELD</th>\n",
              "      <th>PRACTAGE</th>\n",
              "      <th>GRAD</th>\n",
              "      <th>ALGNNATR</th>\n",
              "      <th>ALEGATN1</th>\n",
              "      <th>ALEGATN2</th>\n",
              "      <th>OUTCOME</th>\n",
              "      <th>MALYEAR1</th>\n",
              "      <th>MALYEAR2</th>\n",
              "      <th>NUMBPRSN</th>\n",
              "      <th>PTAGE</th>\n",
              "      <th>AAYEAR</th>\n",
              "      <th>AACLASS1</th>\n",
              "      <th>AACLASS2</th>\n",
              "      <th>AACLASS3</th>\n",
              "      <th>AACLASS4</th>\n",
              "      <th>AACLASS5</th>\n",
              "      <th>AALENGTH</th>\n",
              "      <th>AAEFYEAR</th>\n",
              "      <th>AASIGYR</th>\n",
              "      <th>TYPE</th>\n",
              "      <th>PRACTNUM</th>\n",
              "      <th>ACCRRPTS</th>\n",
              "      <th>NPMALRPT</th>\n",
              "      <th>NPLICRPT</th>\n",
              "      <th>NPCLPRPT</th>\n",
              "      <th>NPPSMRPT</th>\n",
              "      <th>NPDEARPT</th>\n",
              "      <th>NPEXCRPT</th>\n",
              "      <th>NPGARPT</th>\n",
              "      <th>NPCTMRPT</th>\n",
              "      <th>FUNDPYMT</th>\n",
              "    </tr>\n",
              "  </thead>\n",
              "  <tbody>\n",
              "    <tr>\n",
              "      <th>count</th>\n",
              "      <td>1572231.000</td>\n",
              "      <td>1572231.000</td>\n",
              "      <td>1572231.000</td>\n",
              "      <td>1572231.000</td>\n",
              "      <td>1525227.000</td>\n",
              "      <td>1368863.000</td>\n",
              "      <td>476603.000</td>\n",
              "      <td>476603.000</td>\n",
              "      <td>66323.000</td>\n",
              "      <td>226100.000</td>\n",
              "      <td>476153.000</td>\n",
              "      <td>86582.000</td>\n",
              "      <td>1561441.000</td>\n",
              "      <td>217186.000</td>\n",
              "      <td>1095457.000</td>\n",
              "      <td>1095457.000</td>\n",
              "      <td>164252.000</td>\n",
              "      <td>28921.000</td>\n",
              "      <td>2986.000</td>\n",
              "      <td>330.000</td>\n",
              "      <td>214495.000</td>\n",
              "      <td>1095449.000</td>\n",
              "      <td>1022851.000</td>\n",
              "      <td>1572231.000</td>\n",
              "      <td>1572231.000</td>\n",
              "      <td>1572231.000</td>\n",
              "      <td>1572231.000</td>\n",
              "      <td>1572231.000</td>\n",
              "      <td>1572231.000</td>\n",
              "      <td>1572231.000</td>\n",
              "      <td>1572231.000</td>\n",
              "      <td>1572231.000</td>\n",
              "      <td>1572231.000</td>\n",
              "      <td>1572231.000</td>\n",
              "      <td>476774.000</td>\n",
              "    </tr>\n",
              "    <tr>\n",
              "      <th>mean</th>\n",
              "      <td>1016305.374</td>\n",
              "      <td>308.099</td>\n",
              "      <td>2008.815</td>\n",
              "      <td>171.712</td>\n",
              "      <td>41.906</td>\n",
              "      <td>1983.765</td>\n",
              "      <td>31.259</td>\n",
              "      <td>385.397</td>\n",
              "      <td>379.397</td>\n",
              "      <td>6.057</td>\n",
              "      <td>1999.178</td>\n",
              "      <td>1996.398</td>\n",
              "      <td>0.344</td>\n",
              "      <td>40.173</td>\n",
              "      <td>2009.858</td>\n",
              "      <td>1303.678</td>\n",
              "      <td>1263.119</td>\n",
              "      <td>1214.553</td>\n",
              "      <td>1216.626</td>\n",
              "      <td>1237.245</td>\n",
              "      <td>2.732</td>\n",
              "      <td>2009.787</td>\n",
              "      <td>2012.154</td>\n",
              "      <td>288.823</td>\n",
              "      <td>376433.910</td>\n",
              "      <td>0.000</td>\n",
              "      <td>1.647</td>\n",
              "      <td>1.915</td>\n",
              "      <td>0.100</td>\n",
              "      <td>0.008</td>\n",
              "      <td>0.021</td>\n",
              "      <td>0.298</td>\n",
              "      <td>0.028</td>\n",
              "      <td>0.000</td>\n",
              "      <td>0.044</td>\n",
              "    </tr>\n",
              "    <tr>\n",
              "      <th>std</th>\n",
              "      <td>580257.023</td>\n",
              "      <td>239.465</td>\n",
              "      <td>7.889</td>\n",
              "      <td>288.440</td>\n",
              "      <td>12.294</td>\n",
              "      <td>16.337</td>\n",
              "      <td>26.217</td>\n",
              "      <td>310.241</td>\n",
              "      <td>291.152</td>\n",
              "      <td>2.421</td>\n",
              "      <td>12.310</td>\n",
              "      <td>18.456</td>\n",
              "      <td>0.693</td>\n",
              "      <td>20.970</td>\n",
              "      <td>7.198</td>\n",
              "      <td>412.914</td>\n",
              "      <td>406.640</td>\n",
              "      <td>241.051</td>\n",
              "      <td>228.212</td>\n",
              "      <td>251.089</td>\n",
              "      <td>3.504</td>\n",
              "      <td>7.144</td>\n",
              "      <td>5.895</td>\n",
              "      <td>164.029</td>\n",
              "      <td>238962.100</td>\n",
              "      <td>0.005</td>\n",
              "      <td>13.079</td>\n",
              "      <td>2.444</td>\n",
              "      <td>0.532</td>\n",
              "      <td>0.110</td>\n",
              "      <td>0.175</td>\n",
              "      <td>0.786</td>\n",
              "      <td>0.211</td>\n",
              "      <td>0.022</td>\n",
              "      <td>0.206</td>\n",
              "    </tr>\n",
              "    <tr>\n",
              "      <th>min</th>\n",
              "      <td>1.000</td>\n",
              "      <td>101.000</td>\n",
              "      <td>1990.000</td>\n",
              "      <td>10.000</td>\n",
              "      <td>10.000</td>\n",
              "      <td>1900.000</td>\n",
              "      <td>1.000</td>\n",
              "      <td>100.000</td>\n",
              "      <td>100.000</td>\n",
              "      <td>1.000</td>\n",
              "      <td>1900.000</td>\n",
              "      <td>1902.000</td>\n",
              "      <td>0.000</td>\n",
              "      <td>-1.000</td>\n",
              "      <td>1977.000</td>\n",
              "      <td>1110.000</td>\n",
              "      <td>1110.000</td>\n",
              "      <td>1110.000</td>\n",
              "      <td>1110.000</td>\n",
              "      <td>1125.000</td>\n",
              "      <td>0.000</td>\n",
              "      <td>1900.000</td>\n",
              "      <td>1900.000</td>\n",
              "      <td>11.000</td>\n",
              "      <td>1.000</td>\n",
              "      <td>0.000</td>\n",
              "      <td>0.000</td>\n",
              "      <td>0.000</td>\n",
              "      <td>0.000</td>\n",
              "      <td>0.000</td>\n",
              "      <td>0.000</td>\n",
              "      <td>0.000</td>\n",
              "      <td>0.000</td>\n",
              "      <td>0.000</td>\n",
              "      <td>0.000</td>\n",
              "    </tr>\n",
              "    <tr>\n",
              "      <th>25%</th>\n",
              "      <td>502391.500</td>\n",
              "      <td>101.000</td>\n",
              "      <td>2003.000</td>\n",
              "      <td>10.000</td>\n",
              "      <td>30.000</td>\n",
              "      <td>1970.000</td>\n",
              "      <td>1.000</td>\n",
              "      <td>113.000</td>\n",
              "      <td>200.000</td>\n",
              "      <td>4.000</td>\n",
              "      <td>1992.000</td>\n",
              "      <td>1991.000</td>\n",
              "      <td>0.000</td>\n",
              "      <td>30.000</td>\n",
              "      <td>2005.000</td>\n",
              "      <td>1135.000</td>\n",
              "      <td>1140.000</td>\n",
              "      <td>1147.000</td>\n",
              "      <td>1140.000</td>\n",
              "      <td>1173.000</td>\n",
              "      <td>1.000</td>\n",
              "      <td>2005.000</td>\n",
              "      <td>2010.000</td>\n",
              "      <td>224.000</td>\n",
              "      <td>163359.500</td>\n",
              "      <td>0.000</td>\n",
              "      <td>0.000</td>\n",
              "      <td>0.000</td>\n",
              "      <td>0.000</td>\n",
              "      <td>0.000</td>\n",
              "      <td>0.000</td>\n",
              "      <td>0.000</td>\n",
              "      <td>0.000</td>\n",
              "      <td>0.000</td>\n",
              "      <td>0.000</td>\n",
              "    </tr>\n",
              "    <tr>\n",
              "      <th>50%</th>\n",
              "      <td>1063999.000</td>\n",
              "      <td>302.000</td>\n",
              "      <td>2010.000</td>\n",
              "      <td>100.000</td>\n",
              "      <td>40.000</td>\n",
              "      <td>1980.000</td>\n",
              "      <td>20.000</td>\n",
              "      <td>306.000</td>\n",
              "      <td>305.000</td>\n",
              "      <td>6.000</td>\n",
              "      <td>1999.000</td>\n",
              "      <td>1995.000</td>\n",
              "      <td>0.000</td>\n",
              "      <td>40.000</td>\n",
              "      <td>2011.000</td>\n",
              "      <td>1147.000</td>\n",
              "      <td>1173.000</td>\n",
              "      <td>1173.000</td>\n",
              "      <td>1173.000</td>\n",
              "      <td>1199.000</td>\n",
              "      <td>2.000</td>\n",
              "      <td>2011.000</td>\n",
              "      <td>2013.000</td>\n",
              "      <td>300.000</td>\n",
              "      <td>361378.000</td>\n",
              "      <td>0.000</td>\n",
              "      <td>0.000</td>\n",
              "      <td>1.000</td>\n",
              "      <td>0.000</td>\n",
              "      <td>0.000</td>\n",
              "      <td>0.000</td>\n",
              "      <td>0.000</td>\n",
              "      <td>0.000</td>\n",
              "      <td>0.000</td>\n",
              "      <td>0.000</td>\n",
              "    </tr>\n",
              "    <tr>\n",
              "      <th>75%</th>\n",
              "      <td>1525138.500</td>\n",
              "      <td>302.000</td>\n",
              "      <td>2015.000</td>\n",
              "      <td>148.000</td>\n",
              "      <td>50.000</td>\n",
              "      <td>2000.000</td>\n",
              "      <td>60.000</td>\n",
              "      <td>334.000</td>\n",
              "      <td>502.000</td>\n",
              "      <td>9.000</td>\n",
              "      <td>2006.000</td>\n",
              "      <td>2001.000</td>\n",
              "      <td>1.000</td>\n",
              "      <td>60.000</td>\n",
              "      <td>2016.000</td>\n",
              "      <td>1280.000</td>\n",
              "      <td>1199.000</td>\n",
              "      <td>1199.000</td>\n",
              "      <td>1199.000</td>\n",
              "      <td>1199.000</td>\n",
              "      <td>4.000</td>\n",
              "      <td>2016.000</td>\n",
              "      <td>2017.000</td>\n",
              "      <td>349.000</td>\n",
              "      <td>579680.500</td>\n",
              "      <td>0.000</td>\n",
              "      <td>1.000</td>\n",
              "      <td>3.000</td>\n",
              "      <td>0.000</td>\n",
              "      <td>0.000</td>\n",
              "      <td>0.000</td>\n",
              "      <td>0.000</td>\n",
              "      <td>0.000</td>\n",
              "      <td>0.000</td>\n",
              "      <td>0.000</td>\n",
              "    </tr>\n",
              "    <tr>\n",
              "      <th>max</th>\n",
              "      <td>1961428.000</td>\n",
              "      <td>1803.000</td>\n",
              "      <td>2021.000</td>\n",
              "      <td>1999.000</td>\n",
              "      <td>80.000</td>\n",
              "      <td>2020.000</td>\n",
              "      <td>100.000</td>\n",
              "      <td>999.000</td>\n",
              "      <td>999.000</td>\n",
              "      <td>10.000</td>\n",
              "      <td>3999.000</td>\n",
              "      <td>3999.000</td>\n",
              "      <td>236.000</td>\n",
              "      <td>90.000</td>\n",
              "      <td>2021.000</td>\n",
              "      <td>3920.000</td>\n",
              "      <td>3599.000</td>\n",
              "      <td>3589.000</td>\n",
              "      <td>3297.000</td>\n",
              "      <td>3579.000</td>\n",
              "      <td>99.000</td>\n",
              "      <td>2025.000</td>\n",
              "      <td>2021.000</td>\n",
              "      <td>800.000</td>\n",
              "      <td>828315.000</td>\n",
              "      <td>1.000</td>\n",
              "      <td>493.000</td>\n",
              "      <td>60.000</td>\n",
              "      <td>22.000</td>\n",
              "      <td>5.000</td>\n",
              "      <td>13.000</td>\n",
              "      <td>14.000</td>\n",
              "      <td>11.000</td>\n",
              "      <td>2.000</td>\n",
              "      <td>1.000</td>\n",
              "    </tr>\n",
              "  </tbody>\n",
              "</table>\n",
              "</div>"
            ],
            "text/plain": [
              "            SEQNO     REPTYPE    ORIGYEAR  ...     NPGARPT    NPCTMRPT   FUNDPYMT\n",
              "count 1572231.000 1572231.000 1572231.000  ... 1572231.000 1572231.000 476774.000\n",
              "mean  1016305.374     308.099    2008.815  ...       0.028       0.000      0.044\n",
              "std    580257.023     239.465       7.889  ...       0.211       0.022      0.206\n",
              "min         1.000     101.000    1990.000  ...       0.000       0.000      0.000\n",
              "25%    502391.500     101.000    2003.000  ...       0.000       0.000      0.000\n",
              "50%   1063999.000     302.000    2010.000  ...       0.000       0.000      0.000\n",
              "75%   1525138.500     302.000    2015.000  ...       0.000       0.000      0.000\n",
              "max   1961428.000    1803.000    2021.000  ...      11.000       2.000      1.000\n",
              "\n",
              "[8 rows x 35 columns]"
            ]
          },
          "metadata": {
            "tags": []
          },
          "execution_count": 35
        }
      ]
    },
    {
      "cell_type": "code",
      "metadata": {
        "colab": {
          "base_uri": "https://localhost:8080/",
          "height": 1000
        },
        "id": "1JwciYx8U_4F",
        "outputId": "e2fb97d9-1b2b-48da-a3d7-54081a1190db"
      },
      "source": [
        "df.hist(figsize=(20, 25), bins=50, xlabelsize=6, ylabelsize=6)"
      ],
      "execution_count": 121,
      "outputs": [
        {
          "output_type": "execute_result",
          "data": {
            "text/plain": [
              "array([[<matplotlib.axes._subplots.AxesSubplot object at 0x7f71aa77c6d0>,\n",
              "        <matplotlib.axes._subplots.AxesSubplot object at 0x7f71abeb1290>,\n",
              "        <matplotlib.axes._subplots.AxesSubplot object at 0x7f71abdcb990>,\n",
              "        <matplotlib.axes._subplots.AxesSubplot object at 0x7f71abc67610>,\n",
              "        <matplotlib.axes._subplots.AxesSubplot object at 0x7f71abb29ad0>,\n",
              "        <matplotlib.axes._subplots.AxesSubplot object at 0x7f71aa6ebb90>],\n",
              "       [<matplotlib.axes._subplots.AxesSubplot object at 0x7f71aa364e90>,\n",
              "        <matplotlib.axes._subplots.AxesSubplot object at 0x7f71aa37b390>,\n",
              "        <matplotlib.axes._subplots.AxesSubplot object at 0x7f71aa37b3d0>,\n",
              "        <matplotlib.axes._subplots.AxesSubplot object at 0x7f71aa38ea50>,\n",
              "        <matplotlib.axes._subplots.AxesSubplot object at 0x7f71aa33b490>,\n",
              "        <matplotlib.axes._subplots.AxesSubplot object at 0x7f71aa34fa10>],\n",
              "       [<matplotlib.axes._subplots.AxesSubplot object at 0x7f71aa2e2f90>,\n",
              "        <matplotlib.axes._subplots.AxesSubplot object at 0x7f71aa2fb550>,\n",
              "        <matplotlib.axes._subplots.AxesSubplot object at 0x7f71aa310ad0>,\n",
              "        <matplotlib.axes._subplots.AxesSubplot object at 0x7f71aa29eb90>,\n",
              "        <matplotlib.axes._subplots.AxesSubplot object at 0x7f71aa2ba610>,\n",
              "        <matplotlib.axes._subplots.AxesSubplot object at 0x7f71aa2cfb90>],\n",
              "       [<matplotlib.axes._subplots.AxesSubplot object at 0x7f71aa26e150>,\n",
              "        <matplotlib.axes._subplots.AxesSubplot object at 0x7f71aa28c6d0>,\n",
              "        <matplotlib.axes._subplots.AxesSubplot object at 0x7f71aa22bc50>,\n",
              "        <matplotlib.axes._subplots.AxesSubplot object at 0x7f71aa256210>,\n",
              "        <matplotlib.axes._subplots.AxesSubplot object at 0x7f71aa209790>,\n",
              "        <matplotlib.axes._subplots.AxesSubplot object at 0x7f71aa1bfd10>],\n",
              "       [<matplotlib.axes._subplots.AxesSubplot object at 0x7f71aa17e350>,\n",
              "        <matplotlib.axes._subplots.AxesSubplot object at 0x7f71aa1338d0>,\n",
              "        <matplotlib.axes._subplots.AxesSubplot object at 0x7f71aa0e7e50>,\n",
              "        <matplotlib.axes._subplots.AxesSubplot object at 0x7f71aa0a9410>,\n",
              "        <matplotlib.axes._subplots.AxesSubplot object at 0x7f71aa05e990>,\n",
              "        <matplotlib.axes._subplots.AxesSubplot object at 0x7f71aa096f10>],\n",
              "       [<matplotlib.axes._subplots.AxesSubplot object at 0x7f71aa0554d0>,\n",
              "        <matplotlib.axes._subplots.AxesSubplot object at 0x7f71aa00ea50>,\n",
              "        <matplotlib.axes._subplots.AxesSubplot object at 0x7f71cc7ff1d0>,\n",
              "        <matplotlib.axes._subplots.AxesSubplot object at 0x7f71ae8efd10>,\n",
              "        <matplotlib.axes._subplots.AxesSubplot object at 0x7f71ae831bd0>,\n",
              "        <matplotlib.axes._subplots.AxesSubplot object at 0x7f71ae726cd0>],\n",
              "       [<matplotlib.axes._subplots.AxesSubplot object at 0x7f71ae76a750>,\n",
              "        <matplotlib.axes._subplots.AxesSubplot object at 0x7f71ae5504d0>,\n",
              "        <matplotlib.axes._subplots.AxesSubplot object at 0x7f71ae428b90>,\n",
              "        <matplotlib.axes._subplots.AxesSubplot object at 0x7f71adcb1990>,\n",
              "        <matplotlib.axes._subplots.AxesSubplot object at 0x7f71adca5b90>,\n",
              "        <matplotlib.axes._subplots.AxesSubplot object at 0x7f71ad0768d0>]],\n",
              "      dtype=object)"
            ]
          },
          "metadata": {
            "tags": []
          },
          "execution_count": 121
        },
        {
          "output_type": "display_data",
          "data": {
            "image/png": "[encoded data removed]",
            "text/plain": [
              "<Figure size 1440x1800 with 42 Axes>"
            ]
          },
          "metadata": {
            "tags": [],
            "needs_background": "light"
          }
        }
      ]
    },
    {
      "cell_type": "markdown",
      "metadata": {
        "id": "ISgg7A8WyyyS"
      },
      "source": [
        "### Payment\n",
        "Refering to the *PublicUseDataFile-Format.pdf*, Payment is coded into ranges for data privacy.  It is using the midpoint, such as $300 for range $101 - $500, which is acceptable for further analysis. "
      ]
    },
    {
      "cell_type": "code",
      "metadata": {
        "colab": {
          "base_uri": "https://localhost:8080/",
          "height": 436
        },
        "id": "bM-pIEuAy57y",
        "outputId": "50ca28db-54ac-42a5-ce06-79952b2693ec"
      },
      "source": [
        "print(df['PAYMENT'].dtype, df['TOTALPMT'].dtype)\n",
        "df[['PAYMENT', 'TOTALPMT']][df['RECTYPE'] == 'P']"
      ],
      "execution_count": 36,
      "outputs": [
        {
          "output_type": "stream",
          "text": [
            "object object\n"
          ],
          "name": "stdout"
        },
        {
          "output_type": "execute_result",
          "data": {
            "text/html": [
              "<div>\n",
              "<style scoped>\n",
              "    .dataframe tbody tr th:only-of-type {\n",
              "        vertical-align: middle;\n",
              "    }\n",
              "\n",
              "    .dataframe tbody tr th {\n",
              "        vertical-align: top;\n",
              "    }\n",
              "\n",
              "    .dataframe thead th {\n",
              "        text-align: right;\n",
              "    }\n",
              "</style>\n",
              "<table border=\"1\" class=\"dataframe\">\n",
              "  <thead>\n",
              "    <tr style=\"text-align: right;\">\n",
              "      <th></th>\n",
              "      <th>PAYMENT</th>\n",
              "      <th>TOTALPMT</th>\n",
              "    </tr>\n",
              "  </thead>\n",
              "  <tbody>\n",
              "    <tr>\n",
              "      <th>403233</th>\n",
              "      <td>$97500</td>\n",
              "      <td>$97500</td>\n",
              "    </tr>\n",
              "    <tr>\n",
              "      <th>403234</th>\n",
              "      <td>$125000</td>\n",
              "      <td>$125000</td>\n",
              "    </tr>\n",
              "    <tr>\n",
              "      <th>403236</th>\n",
              "      <td>$175000</td>\n",
              "      <td>$175000</td>\n",
              "    </tr>\n",
              "    <tr>\n",
              "      <th>403250</th>\n",
              "      <td>$77500</td>\n",
              "      <td>$77500</td>\n",
              "    </tr>\n",
              "    <tr>\n",
              "      <th>403252</th>\n",
              "      <td>$1500</td>\n",
              "      <td>$1500</td>\n",
              "    </tr>\n",
              "    <tr>\n",
              "      <th>...</th>\n",
              "      <td>...</td>\n",
              "      <td>...</td>\n",
              "    </tr>\n",
              "    <tr>\n",
              "      <th>1572121</th>\n",
              "      <td>$195000</td>\n",
              "      <td>$195000</td>\n",
              "    </tr>\n",
              "    <tr>\n",
              "      <th>1572124</th>\n",
              "      <td>$22500</td>\n",
              "      <td>$22500</td>\n",
              "    </tr>\n",
              "    <tr>\n",
              "      <th>1572141</th>\n",
              "      <td>$57500</td>\n",
              "      <td>$57500</td>\n",
              "    </tr>\n",
              "    <tr>\n",
              "      <th>1572147</th>\n",
              "      <td>$585000</td>\n",
              "      <td>$585000</td>\n",
              "    </tr>\n",
              "    <tr>\n",
              "      <th>1572152</th>\n",
              "      <td>$27500</td>\n",
              "      <td>$27500</td>\n",
              "    </tr>\n",
              "  </tbody>\n",
              "</table>\n",
              "<p>226100 rows × 2 columns</p>\n",
              "</div>"
            ],
            "text/plain": [
              "         PAYMENT TOTALPMT\n",
              "403233    $97500   $97500\n",
              "403234   $125000  $125000\n",
              "403236   $175000  $175000\n",
              "403250    $77500   $77500\n",
              "403252     $1500    $1500\n",
              "...          ...      ...\n",
              "1572121  $195000  $195000\n",
              "1572124   $22500   $22500\n",
              "1572141   $57500   $57500\n",
              "1572147  $585000  $585000\n",
              "1572152   $27500   $27500\n",
              "\n",
              "[226100 rows x 2 columns]"
            ]
          },
          "metadata": {
            "tags": []
          },
          "execution_count": 36
        }
      ]
    },
    {
      "cell_type": "markdown",
      "metadata": {
        "id": "JhZwhrTV3coW"
      },
      "source": [
        "However, because there is a dollar sign $ in these fields, loading the csv, pandas just automatically treat it as **'object'** (string) dtype. We can just convert it into **'float'** for analysis convenience. (Why **float** over **int**? because there are nan value cannot be convert into **int**)"
      ]
    },
    {
      "cell_type": "code",
      "metadata": {
        "id": "eXeGB1mV3Z_U"
      },
      "source": [
        "df['PAYMENT'] = df['PAYMENT'].replace('[\\$,]', '', regex=True).astype(float)\n",
        "df['TOTALPMT'] = df['TOTALPMT'].replace('[\\$,]', '', regex=True).astype(float)\n",
        "df[['PAYMENT', 'TOTALPMT']][df['RECTYPE'] == 'P']"
      ],
      "execution_count": 41,
      "outputs": []
    },
    {
      "cell_type": "markdown",
      "metadata": {
        "id": "CjhckfGd99GX"
      },
      "source": [
        "### Year\n",
        "\n",
        "Just like the *PublicUseDataFile-Format.pdf* says, there could be Erroneous year such as *'1900'* in MALYEAR1, AAYEAR, etc.\n",
        "\n",
        "We can visualize them using boxplot or histogram density"
      ]
    },
    {
      "cell_type": "code",
      "metadata": {
        "colab": {
          "base_uri": "https://localhost:8080/",
          "height": 269
        },
        "id": "semIbzAJ-7Dn",
        "outputId": "6027a374-9a79-46f6-cf55-fe25a739edfb"
      },
      "source": [
        "sns.boxplot(data = df, y = 'AAEFYEAR')\n",
        "sns.stripplot(data = df, y = 'AAEFYEAR')"
      ],
      "execution_count": 51,
      "outputs": [
        {
          "output_type": "execute_result",
          "data": {
            "text/plain": [
              "<matplotlib.axes._subplots.AxesSubplot at 0x7f71bccf8210>"
            ]
          },
          "metadata": {
            "tags": []
          },
          "execution_count": 51
        },
        {
          "output_type": "display_data",
          "data": {
            "image/png": "[encoded data removed]",
            "text/plain": [
              "<Figure size 432x288 with 1 Axes>"
            ]
          },
          "metadata": {
            "tags": [],
            "needs_background": "light"
          }
        }
      ]
    },
    {
      "cell_type": "code",
      "metadata": {
        "colab": {
          "base_uri": "https://localhost:8080/",
          "height": 269
        },
        "id": "kmt3tS4LEV8n",
        "outputId": "e2444d4d-aebb-4e7d-d3e6-b5a0a3262ee2"
      },
      "source": [
        "sns.boxplot(data = df, y = 'MALYEAR1')\n",
        "sns.stripplot(data = df, y = 'MALYEAR1')"
      ],
      "execution_count": 52,
      "outputs": [
        {
          "output_type": "execute_result",
          "data": {
            "text/plain": [
              "<matplotlib.axes._subplots.AxesSubplot at 0x7f71bca1e950>"
            ]
          },
          "metadata": {
            "tags": []
          },
          "execution_count": 52
        },
        {
          "output_type": "display_data",
          "data": {
            "image/png": "[encoded data removed]",
            "text/plain": [
              "<Figure size 432x288 with 1 Axes>"
            ]
          },
          "metadata": {
            "tags": [],
            "needs_background": "light"
          }
        }
      ]
    },
    {
      "cell_type": "code",
      "metadata": {
        "colab": {
          "base_uri": "https://localhost:8080/",
          "height": 297
        },
        "id": "IsJnHyw1EhkN",
        "outputId": "0ee0d48f-74ca-4ae9-ada5-5adda15d58b6"
      },
      "source": [
        "df[['MALYEAR1', 'ORIGYEAR', 'AAYEAR', 'AAEFYEAR']].describe()"
      ],
      "execution_count": 53,
      "outputs": [
        {
          "output_type": "execute_result",
          "data": {
            "text/html": [
              "<div>\n",
              "<style scoped>\n",
              "    .dataframe tbody tr th:only-of-type {\n",
              "        vertical-align: middle;\n",
              "    }\n",
              "\n",
              "    .dataframe tbody tr th {\n",
              "        vertical-align: top;\n",
              "    }\n",
              "\n",
              "    .dataframe thead th {\n",
              "        text-align: right;\n",
              "    }\n",
              "</style>\n",
              "<table border=\"1\" class=\"dataframe\">\n",
              "  <thead>\n",
              "    <tr style=\"text-align: right;\">\n",
              "      <th></th>\n",
              "      <th>MALYEAR1</th>\n",
              "      <th>ORIGYEAR</th>\n",
              "      <th>AAYEAR</th>\n",
              "      <th>AAEFYEAR</th>\n",
              "    </tr>\n",
              "  </thead>\n",
              "  <tbody>\n",
              "    <tr>\n",
              "      <th>count</th>\n",
              "      <td>476153.000</td>\n",
              "      <td>1572231.000</td>\n",
              "      <td>1095457.000</td>\n",
              "      <td>1095449.000</td>\n",
              "    </tr>\n",
              "    <tr>\n",
              "      <th>mean</th>\n",
              "      <td>1999.178</td>\n",
              "      <td>2008.815</td>\n",
              "      <td>2009.858</td>\n",
              "      <td>2009.787</td>\n",
              "    </tr>\n",
              "    <tr>\n",
              "      <th>std</th>\n",
              "      <td>12.310</td>\n",
              "      <td>7.889</td>\n",
              "      <td>7.198</td>\n",
              "      <td>7.144</td>\n",
              "    </tr>\n",
              "    <tr>\n",
              "      <th>min</th>\n",
              "      <td>1900.000</td>\n",
              "      <td>1990.000</td>\n",
              "      <td>1977.000</td>\n",
              "      <td>1900.000</td>\n",
              "    </tr>\n",
              "    <tr>\n",
              "      <th>25%</th>\n",
              "      <td>1992.000</td>\n",
              "      <td>2003.000</td>\n",
              "      <td>2005.000</td>\n",
              "      <td>2005.000</td>\n",
              "    </tr>\n",
              "    <tr>\n",
              "      <th>50%</th>\n",
              "      <td>1999.000</td>\n",
              "      <td>2010.000</td>\n",
              "      <td>2011.000</td>\n",
              "      <td>2011.000</td>\n",
              "    </tr>\n",
              "    <tr>\n",
              "      <th>75%</th>\n",
              "      <td>2006.000</td>\n",
              "      <td>2015.000</td>\n",
              "      <td>2016.000</td>\n",
              "      <td>2016.000</td>\n",
              "    </tr>\n",
              "    <tr>\n",
              "      <th>max</th>\n",
              "      <td>3999.000</td>\n",
              "      <td>2021.000</td>\n",
              "      <td>2021.000</td>\n",
              "      <td>2025.000</td>\n",
              "    </tr>\n",
              "  </tbody>\n",
              "</table>\n",
              "</div>"
            ],
            "text/plain": [
              "        MALYEAR1    ORIGYEAR      AAYEAR    AAEFYEAR\n",
              "count 476153.000 1572231.000 1095457.000 1095449.000\n",
              "mean    1999.178    2008.815    2009.858    2009.787\n",
              "std       12.310       7.889       7.198       7.144\n",
              "min     1900.000    1990.000    1977.000    1900.000\n",
              "25%     1992.000    2003.000    2005.000    2005.000\n",
              "50%     1999.000    2010.000    2011.000    2011.000\n",
              "75%     2006.000    2015.000    2016.000    2016.000\n",
              "max     3999.000    2021.000    2021.000    2025.000"
            ]
          },
          "metadata": {
            "tags": []
          },
          "execution_count": 53
        }
      ]
    },
    {
      "cell_type": "markdown",
      "metadata": {
        "id": "VJnLeFNEFO99"
      },
      "source": [
        "Let's assume years out of 1970-2021 are outliers"
      ]
    },
    {
      "cell_type": "code",
      "metadata": {
        "colab": {
          "base_uri": "https://localhost:8080/"
        },
        "id": "0FB4k4-FET-Q",
        "outputId": "244dbf2c-15b0-43b2-e20f-494af17a52ca"
      },
      "source": [
        "print(((df['MALYEAR1'] > 2021) | (df['MALYEAR1'] < 1970)).mean())\n",
        "print(((df['AAEFYEAR'] > 2021) | (df['AAEFYEAR'] < 1970)).mean())"
      ],
      "execution_count": 60,
      "outputs": [
        {
          "output_type": "stream",
          "text": [
            "0.0005864278213570398\n",
            "2.607759292368615e-05\n"
          ],
          "name": "stdout"
        }
      ]
    },
    {
      "cell_type": "markdown",
      "metadata": {
        "id": "aDi5oneAEEKB"
      },
      "source": [
        "Fine, there's really small percentage of Erroneous years"
      ]
    },
    {
      "cell_type": "markdown",
      "metadata": {
        "id": "xkePXYrb-mRC"
      },
      "source": [
        "In the future, we may convert those erroneous year '1900', '3999', or maybe those '1920', '1931', outliers into NaN or perform other process, based on the model we use."
      ]
    },
    {
      "cell_type": "markdown",
      "metadata": {
        "id": "FqGrPKYL9peB"
      },
      "source": [
        "   \n",
        "\n",
        "   ###    "
      ]
    },
    {
      "cell_type": "markdown",
      "metadata": {
        "id": "jLTXiNRkPUM4"
      },
      "source": [
        "Since there are so many columns in this dataset, I won't finish all those Analysis/Cleaning in this primitive EDA notebook. We can just perform similar analysis in the future. "
      ]
    },
    {
      "cell_type": "markdown",
      "metadata": {
        "id": "lEE1TT-0cVI8"
      },
      "source": [
        "## Summary Statistics for claims"
      ]
    },
    {
      "cell_type": "markdown",
      "metadata": {
        "id": "anJA5dkh5lHc"
      },
      "source": [
        "### Some basic metrics"
      ]
    },
    {
      "cell_type": "markdown",
      "metadata": {
        "id": "xTxKHIHpGCd4"
      },
      "source": [
        "We know that only 'P' and 'M' means Malpractice Payment. Let's see their payments characteristics"
      ]
    },
    {
      "cell_type": "code",
      "metadata": {
        "colab": {
          "base_uri": "https://localhost:8080/"
        },
        "id": "PrqRM2sE5zat",
        "outputId": "7010651c-6e5b-4d13-a12c-c5dbf38d06ab"
      },
      "source": [
        "# [(df['RECTYPE'] == 'M') | (df['RECTYPE'] == 'P')] means only select Malpractice payments\n",
        "posPct = (df['PAYMENT'][(df['RECTYPE'] == 'M') | (df['RECTYPE'] == 'P')] > 0).mean()\n",
        "nonposPct = (df['PAYMENT'][(df['RECTYPE'] == 'M') | (df['RECTYPE'] == 'P')] <= 0).mean()\n",
        "nanPct = df['PAYMENT'][(df['RECTYPE'] == 'M') | (df['RECTYPE'] == 'P')].isnull().mean()\n",
        "print('positive Ratio:', posPct)\n",
        "print('Non positive Ratio', nonposPct)\n",
        "print('NaN Ratio:', nanPct)"
      ],
      "execution_count": 74,
      "outputs": [
        {
          "output_type": "stream",
          "text": [
            "positive Ratio: 0.9999454668249527\n",
            "Non positive Ratio 0.0\n",
            "NaN Ratio: 5.453317504729704e-05\n"
          ],
          "name": "stdout"
        }
      ]
    },
    {
      "cell_type": "markdown",
      "metadata": {
        "id": "vkkUZbhCFqIM"
      },
      "source": [
        "Since almost all Malpractice Payment records (99.995%) have positive payments, I assume 'Claims Counts' is all records including 'Adverse Action', while non-zero claim counts means 'Malpractice Payment'. "
      ]
    },
    {
      "cell_type": "markdown",
      "metadata": {
        "id": "IQat3JH15vet"
      },
      "source": [
        "#### Claims counts"
      ]
    },
    {
      "cell_type": "code",
      "metadata": {
        "colab": {
          "base_uri": "https://localhost:8080/"
        },
        "id": "4kKx7ajmHHrH",
        "outputId": "0653dbdb-5df9-463e-dffb-f985bd5e8968"
      },
      "source": [
        "df['SEQNO'].count()"
      ],
      "execution_count": 75,
      "outputs": [
        {
          "output_type": "execute_result",
          "data": {
            "text/plain": [
              "1572231"
            ]
          },
          "metadata": {
            "tags": []
          },
          "execution_count": 75
        }
      ]
    },
    {
      "cell_type": "markdown",
      "metadata": {
        "id": "pJ9U4H--cVI9"
      },
      "source": [
        "#### non-zero claim counts"
      ]
    },
    {
      "cell_type": "code",
      "metadata": {
        "colab": {
          "base_uri": "https://localhost:8080/"
        },
        "id": "SpefG44pHV6f",
        "outputId": "a430316c-8d81-43f0-9aa4-0bf6c5c919d7"
      },
      "source": [
        "(df['PAYMENT'] > 0).sum()"
      ],
      "execution_count": 78,
      "outputs": [
        {
          "output_type": "execute_result",
          "data": {
            "text/plain": [
              "476748"
            ]
          },
          "metadata": {
            "tags": []
          },
          "execution_count": 78
        }
      ]
    },
    {
      "cell_type": "markdown",
      "metadata": {
        "id": "FiAA4JLAHqU6"
      },
      "source": [
        "#### average payout per claim count"
      ]
    },
    {
      "cell_type": "code",
      "metadata": {
        "colab": {
          "base_uri": "https://localhost:8080/"
        },
        "id": "qfHZ-tyQHpWW",
        "outputId": "ed8480be-c24e-4bc5-e0f3-9647bf176c91"
      },
      "source": [
        "df['PAYMENT'].sum() / df['SEQNO'].count()"
      ],
      "execution_count": 80,
      "outputs": [
        {
          "output_type": "execute_result",
          "data": {
            "text/plain": [
              "72955.55579937044"
            ]
          },
          "metadata": {
            "tags": []
          },
          "execution_count": 80
        }
      ]
    },
    {
      "cell_type": "markdown",
      "metadata": {
        "id": "Pwpc0aZUIXy7"
      },
      "source": [
        "#### average payout per non-zero claim count"
      ]
    },
    {
      "cell_type": "code",
      "metadata": {
        "colab": {
          "base_uri": "https://localhost:8080/"
        },
        "id": "09kMZUy9Hhg-",
        "outputId": "c77cc3d0-57fe-4380-d52c-b7dd636695f5"
      },
      "source": [
        "# they are the same, because all non-null payment are positive\n",
        "print(df['PAYMENT'].mean())\n",
        "print(df['PAYMENT'].sum() / (df['PAYMENT'] > 0).sum())"
      ],
      "execution_count": 83,
      "outputs": [
        {
          "output_type": "stream",
          "text": [
            "240594.58340674738\n",
            "240594.58340674738\n"
          ],
          "name": "stdout"
        }
      ]
    },
    {
      "cell_type": "markdown",
      "metadata": {
        "id": "zcKAl9AfJSlE"
      },
      "source": [
        "#### payout rate(non-zero claim count/total claim count) \n",
        "by state, practitioner type and patient type as well as trends over time. "
      ]
    },
    {
      "cell_type": "markdown",
      "metadata": {
        "id": "WReSsewCMqAZ"
      },
      "source": [
        "##### By state"
      ]
    },
    {
      "cell_type": "code",
      "metadata": {
        "colab": {
          "base_uri": "https://localhost:8080/"
        },
        "id": "kMnoO7lcL0JD",
        "outputId": "3ed4103b-3bc5-42e4-8df6-07497e77cd5f"
      },
      "source": [
        "prSTATE = df.groupby('STATE')['PAYMENT'].count() / df.groupby('STATE')['SEQNO'].count()\n",
        "print(prSTATE.sort_values())"
      ],
      "execution_count": 95,
      "outputs": [
        {
          "output_type": "stream",
          "text": [
            "STATE\n",
            "AL   0.084\n",
            "AR   0.115\n",
            "OK   0.148\n",
            "FM   0.154\n",
            "VA   0.159\n",
            "      ... \n",
            "PA   0.508\n",
            "AS   0.517\n",
            "DC   0.577\n",
            "NY   0.617\n",
            "PR   0.797\n",
            "Length: 61, dtype: float64\n"
          ],
          "name": "stdout"
        }
      ]
    },
    {
      "cell_type": "markdown",
      "metadata": {
        "id": "FYeOTZ2BMY4y"
      },
      "source": [
        "Seems Puerto Rico (PR) has the highest payout rate(79.7%) while Alabama (AL) has the lowest payout rate(8.4%).  \n",
        "The STATE really makes a difference here, maybe the court in different states have preference of adverse action over malpractice fine? "
      ]
    },
    {
      "cell_type": "markdown",
      "metadata": {
        "id": "cixbJYW1NJty"
      },
      "source": [
        "I can convert the STATE **abbr code** into state **full name** if needed.  \n",
        "Also, I can visualize it using a **colored map**."
      ]
    },
    {
      "cell_type": "markdown",
      "metadata": {
        "id": "2KiHSeaVNZSu"
      },
      "source": [
        "##### By practitioner type"
      ]
    },
    {
      "cell_type": "markdown",
      "metadata": {
        "id": "3LOiuit5OAP2"
      },
      "source": [
        "I suppose it's by LICNFELD(Practitioner's Field of License)\n",
        "\n",
        "As Malpractice Allegation Group doesn't appear in adverse action, thus no \"payout rate\", however, I think this Group is still worthy."
      ]
    },
    {
      "cell_type": "code",
      "metadata": {
        "colab": {
          "base_uri": "https://localhost:8080/"
        },
        "id": "NKqFbeSAOe3Z",
        "outputId": "18f44cf7-b558-4620-ce28-65bea200d4a8"
      },
      "source": [
        "prPracType = df.groupby('LICNFELD')['PAYMENT'].count() / df.groupby('LICNFELD')['SEQNO'].count()\n",
        "print(prPracType.sort_values())"
      ],
      "execution_count": 96,
      "outputs": [
        {
          "output_type": "stream",
          "text": [
            "LICNFELD\n",
            "1999   0.000\n",
            "1338   0.000\n",
            "1343   0.000\n",
            "1399   0.000\n",
            "1344   0.000\n",
            "        ... \n",
            "120    0.853\n",
            "505    0.929\n",
            "630    0.962\n",
            "35     0.963\n",
            "653    1.000\n",
            "Length: 162, dtype: float64\n"
          ],
          "name": "stdout"
        }
      ]
    },
    {
      "cell_type": "markdown",
      "metadata": {
        "id": "T7ntpWQWO9wP"
      },
      "source": [
        "Surprise, Field 653 (Pastoral Counselor) have 100% payout rate. \n",
        "However, it only has 2 records. "
      ]
    },
    {
      "cell_type": "code",
      "metadata": {
        "colab": {
          "base_uri": "https://localhost:8080/"
        },
        "id": "7A56tloqO85y",
        "outputId": "577a0809-0728-4f29-a3ac-44c9b205ad15"
      },
      "source": [
        "(df['LICNFELD']==653).sum()"
      ],
      "execution_count": 99,
      "outputs": [
        {
          "output_type": "execute_result",
          "data": {
            "text/plain": [
              "2"
            ]
          },
          "metadata": {
            "tags": []
          },
          "execution_count": 99
        }
      ]
    },
    {
      "cell_type": "markdown",
      "metadata": {
        "id": "54UXysfgPXZL"
      },
      "source": [
        "We should filter the number of LICNFELD first, for meaningful analysis."
      ]
    },
    {
      "cell_type": "markdown",
      "metadata": {
        "id": "2CjDmmp_OoAm"
      },
      "source": [
        "##### By patient type"
      ]
    },
    {
      "cell_type": "code",
      "metadata": {
        "colab": {
          "base_uri": "https://localhost:8080/"
        },
        "id": "YxLdEayuQbuI",
        "outputId": "6d7a9cb4-6b72-412e-95fe-85b7ad55056d"
      },
      "source": [
        "prPtType = df.groupby('PTTYPE')['PAYMENT'].count() / df.groupby('PTTYPE')['SEQNO'].count()\n",
        "print(prPtType.sort_values())"
      ],
      "execution_count": 103,
      "outputs": [
        {
          "output_type": "stream",
          "text": [
            "PTTYPE\n",
            "B   1.000\n",
            "I   1.000\n",
            "O   1.000\n",
            "U   1.000\n",
            "dtype: float64\n"
          ],
          "name": "stdout"
        }
      ]
    },
    {
      "cell_type": "markdown",
      "metadata": {
        "id": "QjXQsOb-Qx4P"
      },
      "source": [
        "Whoops, all PTTYPE are for malpractice payment type records only. "
      ]
    },
    {
      "cell_type": "markdown",
      "metadata": {
        "id": "CMQ3FaZRRfiF"
      },
      "source": [
        "##### By Time"
      ]
    },
    {
      "cell_type": "code",
      "metadata": {
        "id": "QYACP0N5Rpdq"
      },
      "source": [
        "# In the previous analysis, the ORIGYEAR is all within 1970-2021 range. So I just use it without filtering. (maybe we should filter outliers btw)\n",
        "prOrigYear = df.groupby('ORIGYEAR')['PAYMENT'].count() / df.groupby('ORIGYEAR')['SEQNO'].count()\n",
        "print(prOrigYear.sort_values())"
      ],
      "execution_count": null,
      "outputs": []
    },
    {
      "cell_type": "code",
      "metadata": {
        "colab": {
          "base_uri": "https://localhost:8080/"
        },
        "id": "iR-XsEVAS7Ca",
        "outputId": "fedaa49d-2e7b-449f-ad26-90ec3d10bd49"
      },
      "source": [
        "prOrigYear"
      ],
      "execution_count": 109,
      "outputs": [
        {
          "output_type": "execute_result",
          "data": {
            "text/plain": [
              "ORIGYEAR\n",
              "1990   0.910\n",
              "1991   0.837\n",
              "1992   0.837\n",
              "1993   0.826\n",
              "1994   0.807\n",
              "1995   0.793\n",
              "1996   0.789\n",
              "1997   0.590\n",
              "1998   0.698\n",
              "1999   0.693\n",
              "2000   0.291\n",
              "2001   0.505\n",
              "2002   0.436\n",
              "2003   0.421\n",
              "2004   0.396\n",
              "2005   0.397\n",
              "2006   0.346\n",
              "2007   0.306\n",
              "2008   0.210\n",
              "2009   0.275\n",
              "2010   0.144\n",
              "2011   0.152\n",
              "2012   0.166\n",
              "2013   0.178\n",
              "2014   0.178\n",
              "2015   0.154\n",
              "2016   0.142\n",
              "2017   0.164\n",
              "2018   0.157\n",
              "2019   0.154\n",
              "2020   0.163\n",
              "2021   0.148\n",
              "dtype: float64"
            ]
          },
          "metadata": {
            "tags": []
          },
          "execution_count": 109
        }
      ]
    },
    {
      "cell_type": "markdown",
      "metadata": {
        "id": "N1rvNYcfSEDO"
      },
      "source": [
        "Seems that it's declining over time, and it is."
      ]
    },
    {
      "cell_type": "code",
      "metadata": {
        "colab": {
          "base_uri": "https://localhost:8080/",
          "height": 542
        },
        "id": "GAgaS80wTgRQ",
        "outputId": "d395886e-ac52-4581-ae3d-89c80f3678d8"
      },
      "source": [
        "dfOrigYear = prOrigYear.reset_index()\n",
        "dfOrigYear.rename(columns = {'ORIGYEAR':'Year', 0:'Ratio'}, inplace=True)\n",
        "fig = px.line(dfOrigYear, x = 'Year', y = 'Ratio', title='Payout Ratio over time')\n",
        "fig.show()"
      ],
      "execution_count": 115,
      "outputs": [
        {
          "output_type": "display_data",
          "data": {
            "text/html": [
              "<html>\n",
              "<head><meta charset=\"utf-8\" /></head>\n",
              "<body>\n",
              "    <div>\n",
              "            <script src=\"https://cdnjs.cloudflare.com/ajax/libs/mathjax/2.7.5/MathJax.js?config=TeX-AMS-MML_SVG\"></script><script type=\"text/javascript\">if (window.MathJax) {MathJax.Hub.Config({SVG: {font: \"STIX-Web\"}});}</script>\n",
              "                <script type=\"text/javascript\">window.PlotlyConfig = {MathJaxConfig: 'local'};</script>\n",
              "        <script src=\"https://cdn.plot.ly/plotly-latest.min.js\"></script>    \n",
              "            <div id=\"493daaad-4134-4358-b73b-361dd070b6ad\" class=\"plotly-graph-div\" style=\"height:525px; width:100%;\"></div>\n",
              "            <script type=\"text/javascript\">\n",
              "                \n",
              "                    window.PLOTLYENV=window.PLOTLYENV || {};\n",
              "                    \n",
              "                if (document.getElementById(\"493daaad-4134-4358-b73b-361dd070b6ad\")) {\n",
              "                    Plotly.newPlot(\n",
              "                        '493daaad-4134-4358-b73b-361dd070b6ad',\n",
              "                        [{\"hoverlabel\": {\"namelength\": 0}, \"hovertemplate\": \"Year=%{x}<br>Ratio=%{y}\", \"legendgroup\": \"\", \"line\": {\"color\": \"#636efa\", \"dash\": \"solid\"}, \"mode\": \"lines\", \"name\": \"\", \"showlegend\": false, \"type\": \"scatter\", \"x\": [1990, 1991, 1992, 1993, 1994, 1995, 1996, 1997, 1998, 1999, 2000, 2001, 2002, 2003, 2004, 2005, 2006, 2007, 2008, 2009, 2010, 2011, 2012, 2013, 2014, 2015, 2016, 2017, 2018, 2019, 2020, 2021], \"xaxis\": \"x\", \"y\": [0.9098438993309972, 0.8368982711216739, 0.8369836898962084, 0.8257224326509767, 0.8067209608423823, 0.7931156691622735, 0.7890679747722494, 0.5895258774346177, 0.6979378564875753, 0.6930711334120425, 0.29065430439575374, 0.5054977711738484, 0.43631862665710386, 0.4208149828729036, 0.39571976579850593, 0.3971618134906008, 0.3464881474978051, 0.3058406182693526, 0.20962709849948002, 0.27534388168879703, 0.1442331844441775, 0.151902623493264, 0.16642278933025467, 0.17810081866098462, 0.17807084070672172, 0.15373945355747573, 0.14165096390781273, 0.16449035812672178, 0.1573500630043701, 0.15426571579503434, 0.16285389594347546, 0.14787592717464598], \"yaxis\": \"y\"}],\n",
              "                        {\"legend\": {\"tracegroupgap\": 0}, \"template\": {\"data\": {\"bar\": [{\"error_x\": {\"color\": \"#2a3f5f\"}, \"error_y\": {\"color\": \"#2a3f5f\"}, \"marker\": {\"line\": {\"color\": \"#E5ECF6\", \"width\": 0.5}}, \"type\": \"bar\"}], \"barpolar\": [{\"marker\": {\"line\": {\"color\": \"#E5ECF6\", \"width\": 0.5}}, \"type\": \"barpolar\"}], \"carpet\": [{\"aaxis\": {\"endlinecolor\": \"#2a3f5f\", \"gridcolor\": \"white\", \"linecolor\": \"white\", \"minorgridcolor\": \"white\", \"startlinecolor\": \"#2a3f5f\"}, \"baxis\": {\"endlinecolor\": \"#2a3f5f\", \"gridcolor\": \"white\", \"linecolor\": \"white\", \"minorgridcolor\": \"white\", \"startlinecolor\": \"#2a3f5f\"}, \"type\": \"carpet\"}], \"choropleth\": [{\"colorbar\": {\"outlinewidth\": 0, \"ticks\": \"\"}, \"type\": \"choropleth\"}], \"contour\": [{\"colorbar\": {\"outlinewidth\": 0, \"ticks\": \"\"}, \"colorscale\": [[0.0, \"#0d0887\"], [0.1111111111111111, \"#46039f\"], [0.2222222222222222, \"#7201a8\"], [0.3333333333333333, \"#9c179e\"], [0.4444444444444444, \"#bd3786\"], [0.5555555555555556, \"#d8576b\"], [0.6666666666666666, \"#ed7953\"], [0.7777777777777778, \"#fb9f3a\"], [0.8888888888888888, \"#fdca26\"], [1.0, \"#f0f921\"]], \"type\": \"contour\"}], \"contourcarpet\": [{\"colorbar\": {\"outlinewidth\": 0, \"ticks\": \"\"}, \"type\": \"contourcarpet\"}], \"heatmap\": [{\"colorbar\": {\"outlinewidth\": 0, \"ticks\": \"\"}, \"colorscale\": [[0.0, \"#0d0887\"], [0.1111111111111111, \"#46039f\"], [0.2222222222222222, \"#7201a8\"], [0.3333333333333333, \"#9c179e\"], [0.4444444444444444, \"#bd3786\"], [0.5555555555555556, \"#d8576b\"], [0.6666666666666666, \"#ed7953\"], [0.7777777777777778, \"#fb9f3a\"], [0.8888888888888888, \"#fdca26\"], [1.0, \"#f0f921\"]], \"type\": \"heatmap\"}], \"heatmapgl\": [{\"colorbar\": {\"outlinewidth\": 0, \"ticks\": \"\"}, \"colorscale\": [[0.0, \"#0d0887\"], [0.1111111111111111, \"#46039f\"], [0.2222222222222222, \"#7201a8\"], [0.3333333333333333, \"#9c179e\"], [0.4444444444444444, \"#bd3786\"], [0.5555555555555556, \"#d8576b\"], [0.6666666666666666, \"#ed7953\"], [0.7777777777777778, \"#fb9f3a\"], [0.8888888888888888, \"#fdca26\"], [1.0, \"#f0f921\"]], \"type\": \"heatmapgl\"}], \"histogram\": [{\"marker\": {\"colorbar\": {\"outlinewidth\": 0, \"ticks\": \"\"}}, \"type\": \"histogram\"}], \"histogram2d\": [{\"colorbar\": {\"outlinewidth\": 0, \"ticks\": \"\"}, \"colorscale\": [[0.0, \"#0d0887\"], [0.1111111111111111, \"#46039f\"], [0.2222222222222222, \"#7201a8\"], [0.3333333333333333, \"#9c179e\"], [0.4444444444444444, \"#bd3786\"], [0.5555555555555556, \"#d8576b\"], [0.6666666666666666, \"#ed7953\"], [0.7777777777777778, \"#fb9f3a\"], [0.8888888888888888, \"#fdca26\"], [1.0, \"#f0f921\"]], \"type\": \"histogram2d\"}], \"histogram2dcontour\": [{\"colorbar\": {\"outlinewidth\": 0, \"ticks\": \"\"}, \"colorscale\": [[0.0, \"#0d0887\"], [0.1111111111111111, \"#46039f\"], [0.2222222222222222, \"#7201a8\"], [0.3333333333333333, \"#9c179e\"], [0.4444444444444444, \"#bd3786\"], [0.5555555555555556, \"#d8576b\"], [0.6666666666666666, \"#ed7953\"], [0.7777777777777778, \"#fb9f3a\"], [0.8888888888888888, \"#fdca26\"], [1.0, \"#f0f921\"]], \"type\": \"histogram2dcontour\"}], \"mesh3d\": [{\"colorbar\": {\"outlinewidth\": 0, \"ticks\": \"\"}, \"type\": \"mesh3d\"}], \"parcoords\": [{\"line\": {\"colorbar\": {\"outlinewidth\": 0, \"ticks\": \"\"}}, \"type\": \"parcoords\"}], \"pie\": [{\"automargin\": true, \"type\": \"pie\"}], \"scatter\": [{\"marker\": {\"colorbar\": {\"outlinewidth\": 0, \"ticks\": \"\"}}, \"type\": \"scatter\"}], \"scatter3d\": [{\"line\": {\"colorbar\": {\"outlinewidth\": 0, \"ticks\": \"\"}}, \"marker\": {\"colorbar\": {\"outlinewidth\": 0, \"ticks\": \"\"}}, \"type\": \"scatter3d\"}], \"scattercarpet\": [{\"marker\": {\"colorbar\": {\"outlinewidth\": 0, \"ticks\": \"\"}}, \"type\": \"scattercarpet\"}], \"scattergeo\": [{\"marker\": {\"colorbar\": {\"outlinewidth\": 0, \"ticks\": \"\"}}, \"type\": \"scattergeo\"}], \"scattergl\": [{\"marker\": {\"colorbar\": {\"outlinewidth\": 0, \"ticks\": \"\"}}, \"type\": \"scattergl\"}], \"scattermapbox\": [{\"marker\": {\"colorbar\": {\"outlinewidth\": 0, \"ticks\": \"\"}}, \"type\": \"scattermapbox\"}], \"scatterpolar\": [{\"marker\": {\"colorbar\": {\"outlinewidth\": 0, \"ticks\": \"\"}}, \"type\": \"scatterpolar\"}], \"scatterpolargl\": [{\"marker\": {\"colorbar\": {\"outlinewidth\": 0, \"ticks\": \"\"}}, \"type\": \"scatterpolargl\"}], \"scatterternary\": [{\"marker\": {\"colorbar\": {\"outlinewidth\": 0, \"ticks\": \"\"}}, \"type\": \"scatterternary\"}], \"surface\": [{\"colorbar\": {\"outlinewidth\": 0, \"ticks\": \"\"}, \"colorscale\": [[0.0, \"#0d0887\"], [0.1111111111111111, \"#46039f\"], [0.2222222222222222, \"#7201a8\"], [0.3333333333333333, \"#9c179e\"], [0.4444444444444444, \"#bd3786\"], [0.5555555555555556, \"#d8576b\"], [0.6666666666666666, \"#ed7953\"], [0.7777777777777778, \"#fb9f3a\"], [0.8888888888888888, \"#fdca26\"], [1.0, \"#f0f921\"]], \"type\": \"surface\"}], \"table\": [{\"cells\": {\"fill\": {\"color\": \"#EBF0F8\"}, \"line\": {\"color\": \"white\"}}, \"header\": {\"fill\": {\"color\": \"#C8D4E3\"}, \"line\": {\"color\": \"white\"}}, \"type\": \"table\"}]}, \"layout\": {\"annotationdefaults\": {\"arrowcolor\": \"#2a3f5f\", \"arrowhead\": 0, \"arrowwidth\": 1}, \"coloraxis\": {\"colorbar\": {\"outlinewidth\": 0, \"ticks\": \"\"}}, \"colorscale\": {\"diverging\": [[0, \"#8e0152\"], [0.1, \"#c51b7d\"], [0.2, \"#de77ae\"], [0.3, \"#f1b6da\"], [0.4, \"#fde0ef\"], [0.5, \"#f7f7f7\"], [0.6, \"#e6f5d0\"], [0.7, \"#b8e186\"], [0.8, \"#7fbc41\"], [0.9, \"#4d9221\"], [1, \"#276419\"]], \"sequential\": [[0.0, \"#0d0887\"], [0.1111111111111111, \"#46039f\"], [0.2222222222222222, \"#7201a8\"], [0.3333333333333333, \"#9c179e\"], [0.4444444444444444, \"#bd3786\"], [0.5555555555555556, \"#d8576b\"], [0.6666666666666666, \"#ed7953\"], [0.7777777777777778, \"#fb9f3a\"], [0.8888888888888888, \"#fdca26\"], [1.0, \"#f0f921\"]], \"sequentialminus\": [[0.0, \"#0d0887\"], [0.1111111111111111, \"#46039f\"], [0.2222222222222222, \"#7201a8\"], [0.3333333333333333, \"#9c179e\"], [0.4444444444444444, \"#bd3786\"], [0.5555555555555556, \"#d8576b\"], [0.6666666666666666, \"#ed7953\"], [0.7777777777777778, \"#fb9f3a\"], [0.8888888888888888, \"#fdca26\"], [1.0, \"#f0f921\"]]}, \"colorway\": [\"#636efa\", \"#EF553B\", \"#00cc96\", \"#ab63fa\", \"#FFA15A\", \"#19d3f3\", \"#FF6692\", \"#B6E880\", \"#FF97FF\", \"#FECB52\"], \"font\": {\"color\": \"#2a3f5f\"}, \"geo\": {\"bgcolor\": \"white\", \"lakecolor\": \"white\", \"landcolor\": \"#E5ECF6\", \"showlakes\": true, \"showland\": true, \"subunitcolor\": \"white\"}, \"hoverlabel\": {\"align\": \"left\"}, \"hovermode\": \"closest\", \"mapbox\": {\"style\": \"light\"}, \"paper_bgcolor\": \"white\", \"plot_bgcolor\": \"#E5ECF6\", \"polar\": {\"angularaxis\": {\"gridcolor\": \"white\", \"linecolor\": \"white\", \"ticks\": \"\"}, \"bgcolor\": \"#E5ECF6\", \"radialaxis\": {\"gridcolor\": \"white\", \"linecolor\": \"white\", \"ticks\": \"\"}}, \"scene\": {\"xaxis\": {\"backgroundcolor\": \"#E5ECF6\", \"gridcolor\": \"white\", \"gridwidth\": 2, \"linecolor\": \"white\", \"showbackground\": true, \"ticks\": \"\", \"zerolinecolor\": \"white\"}, \"yaxis\": {\"backgroundcolor\": \"#E5ECF6\", \"gridcolor\": \"white\", \"gridwidth\": 2, \"linecolor\": \"white\", \"showbackground\": true, \"ticks\": \"\", \"zerolinecolor\": \"white\"}, \"zaxis\": {\"backgroundcolor\": \"#E5ECF6\", \"gridcolor\": \"white\", \"gridwidth\": 2, \"linecolor\": \"white\", \"showbackground\": true, \"ticks\": \"\", \"zerolinecolor\": \"white\"}}, \"shapedefaults\": {\"line\": {\"color\": \"#2a3f5f\"}}, \"ternary\": {\"aaxis\": {\"gridcolor\": \"white\", \"linecolor\": \"white\", \"ticks\": \"\"}, \"baxis\": {\"gridcolor\": \"white\", \"linecolor\": \"white\", \"ticks\": \"\"}, \"bgcolor\": \"#E5ECF6\", \"caxis\": {\"gridcolor\": \"white\", \"linecolor\": \"white\", \"ticks\": \"\"}}, \"title\": {\"x\": 0.05}, \"xaxis\": {\"automargin\": true, \"gridcolor\": \"white\", \"linecolor\": \"white\", \"ticks\": \"\", \"title\": {\"standoff\": 15}, \"zerolinecolor\": \"white\", \"zerolinewidth\": 2}, \"yaxis\": {\"automargin\": true, \"gridcolor\": \"white\", \"linecolor\": \"white\", \"ticks\": \"\", \"title\": {\"standoff\": 15}, \"zerolinecolor\": \"white\", \"zerolinewidth\": 2}}}, \"title\": {\"text\": \"Payout Ratio over time\"}, \"xaxis\": {\"anchor\": \"y\", \"domain\": [0.0, 1.0], \"title\": {\"text\": \"Year\"}}, \"yaxis\": {\"anchor\": \"x\", \"domain\": [0.0, 1.0], \"title\": {\"text\": \"Ratio\"}}},\n",
              "                        {\"responsive\": true}\n",
              "                    ).then(function(){\n",
              "                            \n",
              "var gd = document.getElementById('493daaad-4134-4358-b73b-361dd070b6ad');\n",
              "var x = new MutationObserver(function (mutations, observer) {{\n",
              "        var display = window.getComputedStyle(gd).display;\n",
              "        if (!display || display === 'none') {{\n",
              "            console.log([gd, 'removed!']);\n",
              "            Plotly.purge(gd);\n",
              "            observer.disconnect();\n",
              "        }}\n",
              "}});\n",
              "\n",
              "// Listen for the removal of the full notebook cells\n",
              "var notebookContainer = gd.closest('#notebook-container');\n",
              "if (notebookContainer) {{\n",
              "    x.observe(notebookContainer, {childList: true});\n",
              "}}\n",
              "\n",
              "// Listen for the clearing of the current output cell\n",
              "var outputEl = gd.closest('.output');\n",
              "if (outputEl) {{\n",
              "    x.observe(outputEl, {childList: true});\n",
              "}}\n",
              "\n",
              "                        })\n",
              "                };\n",
              "                \n",
              "            </script>\n",
              "        </div>\n",
              "</body>\n",
              "</html>"
            ]
          },
          "metadata": {
            "tags": []
          }
        }
      ]
    },
    {
      "cell_type": "markdown",
      "metadata": {
        "id": "agnMhirBJNMU"
      },
      "source": [
        "### Additional metrics"
      ]
    },
    {
      "cell_type": "markdown",
      "metadata": {
        "id": "kS4tYGwFJQ6v"
      },
      "source": [
        "Somehow, I think payout rate(non-zero claim count/total claim count) doesn't matter that much.  \n",
        "First, the dataset is record basis, not individual practitioner basis.  \n",
        "Second, I'm not sure, is adverse action more serious than malpractice payment? \n",
        "\n",
        "Thus, I think, the average payment amount per non-zero claim is more important, especially for insurance purpose. "
      ]
    },
    {
      "cell_type": "code",
      "metadata": {
        "colab": {
          "base_uri": "https://localhost:8080/"
        },
        "id": "_IsqeVAxI3Ux",
        "outputId": "4a1ce358-2daf-4c4c-9037-11bb4debb6b9"
      },
      "source": [
        "print(df.groupby('STATE')['PAYMENT'].mean().sort_values())"
      ],
      "execution_count": 104,
      "outputs": [
        {
          "output_type": "stream",
          "text": [
            "STATE\n",
            "PR     57221.906\n",
            "MI    119973.266\n",
            "CA    136597.879\n",
            "KS    154191.606\n",
            "AS    155916.667\n",
            "         ...    \n",
            "CT    388713.940\n",
            "IL    397257.682\n",
            "PW    545000.000\n",
            "GU    566197.917\n",
            "AA   1079375.000\n",
            "Name: PAYMENT, Length: 61, dtype: float64\n"
          ],
          "name": "stdout"
        }
      ]
    },
    {
      "cell_type": "markdown",
      "metadata": {
        "id": "lBFPqsdiUKPE"
      },
      "source": [
        "Now the state with highest average payment over malpractice is Armed Forces - Americas. I guess the military have more strict law and high welfare? "
      ]
    },
    {
      "cell_type": "markdown",
      "metadata": {
        "id": "gTzTQhonRJ2X"
      },
      "source": [
        "For the features, \n",
        "\n",
        "instead of state, time, etc. Practioner age, patient age, gender is also worthy."
      ]
    },
    {
      "cell_type": "markdown",
      "metadata": {
        "id": "rrWloIoDN0Ie"
      },
      "source": [
        "For the Explained variable，\n",
        "\n",
        "the State Patient Compensation, etc., Fund Payment is also interesting, for insurance purpose."
      ]
    },
    {
      "cell_type": "markdown",
      "metadata": {
        "id": "g81Tu8sgLkqS"
      },
      "source": [
        "## Correlation between payment and other variables"
      ]
    },
    {
      "cell_type": "code",
      "metadata": {
        "colab": {
          "base_uri": "https://localhost:8080/",
          "height": 1000
        },
        "id": "iu7umrzPVwJD",
        "outputId": "7184934a-43aa-4d04-e93e-c6e6664359cf"
      },
      "source": [
        "for i in range(0, len(df.columns), 5):\n",
        "    sns.pairplot(data=df,\n",
        "                 x_vars=df.columns[i:i+5],\n",
        "                 y_vars=['PAYMENT'])"
      ],
      "execution_count": 120,
      "outputs": [
        {
          "output_type": "error",
          "ename": "ValueError",
          "evalue": "ignored",
          "traceback": [
            "\u001b[0;31m---------------------------------------------------------------------------\u001b[0m",
            "\u001b[0;31mValueError\u001b[0m                                Traceback (most recent call last)",
            "\u001b[0;32m<ipython-input-120-b356eae34ffa>\u001b[0m in \u001b[0;36m<module>\u001b[0;34m()\u001b[0m\n\u001b[1;32m      2\u001b[0m     sns.pairplot(data=df,\n\u001b[1;32m      3\u001b[0m                 \u001b[0mx_vars\u001b[0m\u001b[0;34m=\u001b[0m\u001b[0mdf\u001b[0m\u001b[0;34m.\u001b[0m\u001b[0mcolumns\u001b[0m\u001b[0;34m[\u001b[0m\u001b[0mi\u001b[0m\u001b[0;34m:\u001b[0m\u001b[0mi\u001b[0m\u001b[0;34m+\u001b[0m\u001b[0;36m5\u001b[0m\u001b[0;34m]\u001b[0m\u001b[0;34m,\u001b[0m\u001b[0;34m\u001b[0m\u001b[0;34m\u001b[0m\u001b[0m\n\u001b[0;32m----> 4\u001b[0;31m                 y_vars=['PAYMENT'])\n\u001b[0m",
            "\u001b[0;32m/usr/local/lib/python3.7/dist-packages/seaborn/_decorators.py\u001b[0m in \u001b[0;36minner_f\u001b[0;34m(*args, **kwargs)\u001b[0m\n\u001b[1;32m     44\u001b[0m             )\n\u001b[1;32m     45\u001b[0m         \u001b[0mkwargs\u001b[0m\u001b[0;34m.\u001b[0m\u001b[0mupdate\u001b[0m\u001b[0;34m(\u001b[0m\u001b[0;34m{\u001b[0m\u001b[0mk\u001b[0m\u001b[0;34m:\u001b[0m \u001b[0marg\u001b[0m \u001b[0;32mfor\u001b[0m \u001b[0mk\u001b[0m\u001b[0;34m,\u001b[0m \u001b[0marg\u001b[0m \u001b[0;32min\u001b[0m \u001b[0mzip\u001b[0m\u001b[0;34m(\u001b[0m\u001b[0msig\u001b[0m\u001b[0;34m.\u001b[0m\u001b[0mparameters\u001b[0m\u001b[0;34m,\u001b[0m \u001b[0margs\u001b[0m\u001b[0;34m)\u001b[0m\u001b[0;34m}\u001b[0m\u001b[0;34m)\u001b[0m\u001b[0;34m\u001b[0m\u001b[0;34m\u001b[0m\u001b[0m\n\u001b[0;32m---> 46\u001b[0;31m         \u001b[0;32mreturn\u001b[0m \u001b[0mf\u001b[0m\u001b[0;34m(\u001b[0m\u001b[0;34m**\u001b[0m\u001b[0mkwargs\u001b[0m\u001b[0;34m)\u001b[0m\u001b[0;34m\u001b[0m\u001b[0;34m\u001b[0m\u001b[0m\n\u001b[0m\u001b[1;32m     47\u001b[0m     \u001b[0;32mreturn\u001b[0m \u001b[0minner_f\u001b[0m\u001b[0;34m\u001b[0m\u001b[0;34m\u001b[0m\u001b[0m\n\u001b[1;32m     48\u001b[0m \u001b[0;34m\u001b[0m\u001b[0m\n",
            "\u001b[0;32m/usr/local/lib/python3.7/dist-packages/seaborn/axisgrid.py\u001b[0m in \u001b[0;36mpairplot\u001b[0;34m(data, hue, hue_order, palette, vars, x_vars, y_vars, kind, diag_kind, markers, height, aspect, corner, dropna, plot_kws, diag_kws, grid_kws, size)\u001b[0m\n\u001b[1;32m   2030\u001b[0m     \u001b[0;32mif\u001b[0m \u001b[0mkind\u001b[0m \u001b[0;34m==\u001b[0m \u001b[0;34m\"scatter\"\u001b[0m\u001b[0;34m:\u001b[0m\u001b[0;34m\u001b[0m\u001b[0;34m\u001b[0m\u001b[0m\n\u001b[1;32m   2031\u001b[0m         \u001b[0;32mfrom\u001b[0m \u001b[0;34m.\u001b[0m\u001b[0mrelational\u001b[0m \u001b[0;32mimport\u001b[0m \u001b[0mscatterplot\u001b[0m  \u001b[0;31m# Avoid circular import\u001b[0m\u001b[0;34m\u001b[0m\u001b[0;34m\u001b[0m\u001b[0m\n\u001b[0;32m-> 2032\u001b[0;31m         \u001b[0mplotter\u001b[0m\u001b[0;34m(\u001b[0m\u001b[0mscatterplot\u001b[0m\u001b[0;34m,\u001b[0m \u001b[0;34m**\u001b[0m\u001b[0mplot_kws\u001b[0m\u001b[0;34m)\u001b[0m\u001b[0;34m\u001b[0m\u001b[0;34m\u001b[0m\u001b[0m\n\u001b[0m\u001b[1;32m   2033\u001b[0m     \u001b[0;32melif\u001b[0m \u001b[0mkind\u001b[0m \u001b[0;34m==\u001b[0m \u001b[0;34m\"reg\"\u001b[0m\u001b[0;34m:\u001b[0m\u001b[0;34m\u001b[0m\u001b[0;34m\u001b[0m\u001b[0m\n\u001b[1;32m   2034\u001b[0m         \u001b[0;32mfrom\u001b[0m \u001b[0;34m.\u001b[0m\u001b[0mregression\u001b[0m \u001b[0;32mimport\u001b[0m \u001b[0mregplot\u001b[0m  \u001b[0;31m# Avoid circular import\u001b[0m\u001b[0;34m\u001b[0m\u001b[0;34m\u001b[0m\u001b[0m\n",
            "\u001b[0;32m/usr/local/lib/python3.7/dist-packages/seaborn/axisgrid.py\u001b[0m in \u001b[0;36mmap_offdiag\u001b[0;34m(self, func, **kwargs)\u001b[0m\n\u001b[1;32m   1318\u001b[0m                     \u001b[0;32mif\u001b[0m \u001b[0mx_var\u001b[0m \u001b[0;34m!=\u001b[0m \u001b[0my_var\u001b[0m\u001b[0;34m:\u001b[0m\u001b[0;34m\u001b[0m\u001b[0;34m\u001b[0m\u001b[0m\n\u001b[1;32m   1319\u001b[0m                         \u001b[0mindices\u001b[0m\u001b[0;34m.\u001b[0m\u001b[0mappend\u001b[0m\u001b[0;34m(\u001b[0m\u001b[0;34m(\u001b[0m\u001b[0mi\u001b[0m\u001b[0;34m,\u001b[0m \u001b[0mj\u001b[0m\u001b[0;34m)\u001b[0m\u001b[0;34m)\u001b[0m\u001b[0;34m\u001b[0m\u001b[0;34m\u001b[0m\u001b[0m\n\u001b[0;32m-> 1320\u001b[0;31m             \u001b[0mself\u001b[0m\u001b[0;34m.\u001b[0m\u001b[0m_map_bivariate\u001b[0m\u001b[0;34m(\u001b[0m\u001b[0mfunc\u001b[0m\u001b[0;34m,\u001b[0m \u001b[0mindices\u001b[0m\u001b[0;34m,\u001b[0m \u001b[0;34m**\u001b[0m\u001b[0mkwargs\u001b[0m\u001b[0;34m)\u001b[0m\u001b[0;34m\u001b[0m\u001b[0;34m\u001b[0m\u001b[0m\n\u001b[0m\u001b[1;32m   1321\u001b[0m         \u001b[0;32mreturn\u001b[0m \u001b[0mself\u001b[0m\u001b[0;34m\u001b[0m\u001b[0;34m\u001b[0m\u001b[0m\n\u001b[1;32m   1322\u001b[0m \u001b[0;34m\u001b[0m\u001b[0m\n",
            "\u001b[0;32m/usr/local/lib/python3.7/dist-packages/seaborn/axisgrid.py\u001b[0m in \u001b[0;36m_map_bivariate\u001b[0;34m(self, func, indices, **kwargs)\u001b[0m\n\u001b[1;32m   1463\u001b[0m             \u001b[0;32mif\u001b[0m \u001b[0max\u001b[0m \u001b[0;32mis\u001b[0m \u001b[0;32mNone\u001b[0m\u001b[0;34m:\u001b[0m  \u001b[0;31m# i.e. we are in corner mode\u001b[0m\u001b[0;34m\u001b[0m\u001b[0;34m\u001b[0m\u001b[0m\n\u001b[1;32m   1464\u001b[0m                 \u001b[0;32mcontinue\u001b[0m\u001b[0;34m\u001b[0m\u001b[0;34m\u001b[0m\u001b[0m\n\u001b[0;32m-> 1465\u001b[0;31m             \u001b[0mself\u001b[0m\u001b[0;34m.\u001b[0m\u001b[0m_plot_bivariate\u001b[0m\u001b[0;34m(\u001b[0m\u001b[0mx_var\u001b[0m\u001b[0;34m,\u001b[0m \u001b[0my_var\u001b[0m\u001b[0;34m,\u001b[0m \u001b[0max\u001b[0m\u001b[0;34m,\u001b[0m \u001b[0mfunc\u001b[0m\u001b[0;34m,\u001b[0m \u001b[0;34m**\u001b[0m\u001b[0mkws\u001b[0m\u001b[0;34m)\u001b[0m\u001b[0;34m\u001b[0m\u001b[0;34m\u001b[0m\u001b[0m\n\u001b[0m\u001b[1;32m   1466\u001b[0m         \u001b[0mself\u001b[0m\u001b[0;34m.\u001b[0m\u001b[0m_add_axis_labels\u001b[0m\u001b[0;34m(\u001b[0m\u001b[0;34m)\u001b[0m\u001b[0;34m\u001b[0m\u001b[0;34m\u001b[0m\u001b[0m\n\u001b[1;32m   1467\u001b[0m \u001b[0;34m\u001b[0m\u001b[0m\n",
            "\u001b[0;32m/usr/local/lib/python3.7/dist-packages/seaborn/axisgrid.py\u001b[0m in \u001b[0;36m_plot_bivariate\u001b[0;34m(self, x_var, y_var, ax, func, **kwargs)\u001b[0m\n\u001b[1;32m   1503\u001b[0m         \u001b[0mkwargs\u001b[0m\u001b[0;34m.\u001b[0m\u001b[0msetdefault\u001b[0m\u001b[0;34m(\u001b[0m\u001b[0;34m\"hue_order\"\u001b[0m\u001b[0;34m,\u001b[0m \u001b[0mself\u001b[0m\u001b[0;34m.\u001b[0m\u001b[0m_hue_order\u001b[0m\u001b[0;34m)\u001b[0m\u001b[0;34m\u001b[0m\u001b[0;34m\u001b[0m\u001b[0m\n\u001b[1;32m   1504\u001b[0m         \u001b[0mkwargs\u001b[0m\u001b[0;34m.\u001b[0m\u001b[0msetdefault\u001b[0m\u001b[0;34m(\u001b[0m\u001b[0;34m\"palette\"\u001b[0m\u001b[0;34m,\u001b[0m \u001b[0mself\u001b[0m\u001b[0;34m.\u001b[0m\u001b[0m_orig_palette\u001b[0m\u001b[0;34m)\u001b[0m\u001b[0;34m\u001b[0m\u001b[0;34m\u001b[0m\u001b[0m\n\u001b[0;32m-> 1505\u001b[0;31m         \u001b[0mfunc\u001b[0m\u001b[0;34m(\u001b[0m\u001b[0mx\u001b[0m\u001b[0;34m=\u001b[0m\u001b[0mx\u001b[0m\u001b[0;34m,\u001b[0m \u001b[0my\u001b[0m\u001b[0;34m=\u001b[0m\u001b[0my\u001b[0m\u001b[0;34m,\u001b[0m \u001b[0;34m**\u001b[0m\u001b[0mkwargs\u001b[0m\u001b[0;34m)\u001b[0m\u001b[0;34m\u001b[0m\u001b[0;34m\u001b[0m\u001b[0m\n\u001b[0m\u001b[1;32m   1506\u001b[0m \u001b[0;34m\u001b[0m\u001b[0m\n\u001b[1;32m   1507\u001b[0m         \u001b[0mself\u001b[0m\u001b[0;34m.\u001b[0m\u001b[0m_update_legend_data\u001b[0m\u001b[0;34m(\u001b[0m\u001b[0max\u001b[0m\u001b[0;34m)\u001b[0m\u001b[0;34m\u001b[0m\u001b[0;34m\u001b[0m\u001b[0m\n",
            "\u001b[0;32m/usr/local/lib/python3.7/dist-packages/seaborn/_decorators.py\u001b[0m in \u001b[0;36minner_f\u001b[0;34m(*args, **kwargs)\u001b[0m\n\u001b[1;32m     44\u001b[0m             )\n\u001b[1;32m     45\u001b[0m         \u001b[0mkwargs\u001b[0m\u001b[0;34m.\u001b[0m\u001b[0mupdate\u001b[0m\u001b[0;34m(\u001b[0m\u001b[0;34m{\u001b[0m\u001b[0mk\u001b[0m\u001b[0;34m:\u001b[0m \u001b[0marg\u001b[0m \u001b[0;32mfor\u001b[0m \u001b[0mk\u001b[0m\u001b[0;34m,\u001b[0m \u001b[0marg\u001b[0m \u001b[0;32min\u001b[0m \u001b[0mzip\u001b[0m\u001b[0;34m(\u001b[0m\u001b[0msig\u001b[0m\u001b[0;34m.\u001b[0m\u001b[0mparameters\u001b[0m\u001b[0;34m,\u001b[0m \u001b[0margs\u001b[0m\u001b[0;34m)\u001b[0m\u001b[0;34m}\u001b[0m\u001b[0;34m)\u001b[0m\u001b[0;34m\u001b[0m\u001b[0;34m\u001b[0m\u001b[0m\n\u001b[0;32m---> 46\u001b[0;31m         \u001b[0;32mreturn\u001b[0m \u001b[0mf\u001b[0m\u001b[0;34m(\u001b[0m\u001b[0;34m**\u001b[0m\u001b[0mkwargs\u001b[0m\u001b[0;34m)\u001b[0m\u001b[0;34m\u001b[0m\u001b[0;34m\u001b[0m\u001b[0m\n\u001b[0m\u001b[1;32m     47\u001b[0m     \u001b[0;32mreturn\u001b[0m \u001b[0minner_f\u001b[0m\u001b[0;34m\u001b[0m\u001b[0;34m\u001b[0m\u001b[0m\n\u001b[1;32m     48\u001b[0m \u001b[0;34m\u001b[0m\u001b[0m\n",
            "\u001b[0;32m/usr/local/lib/python3.7/dist-packages/seaborn/relational.py\u001b[0m in \u001b[0;36mscatterplot\u001b[0;34m(x, y, hue, style, size, data, palette, hue_order, hue_norm, sizes, size_order, size_norm, markers, style_order, x_bins, y_bins, units, estimator, ci, n_boot, alpha, x_jitter, y_jitter, legend, ax, **kwargs)\u001b[0m\n\u001b[1;32m    818\u001b[0m     \u001b[0mp\u001b[0m\u001b[0;34m.\u001b[0m\u001b[0m_attach\u001b[0m\u001b[0;34m(\u001b[0m\u001b[0max\u001b[0m\u001b[0;34m)\u001b[0m\u001b[0;34m\u001b[0m\u001b[0;34m\u001b[0m\u001b[0m\n\u001b[1;32m    819\u001b[0m \u001b[0;34m\u001b[0m\u001b[0m\n\u001b[0;32m--> 820\u001b[0;31m     \u001b[0mp\u001b[0m\u001b[0;34m.\u001b[0m\u001b[0mplot\u001b[0m\u001b[0;34m(\u001b[0m\u001b[0max\u001b[0m\u001b[0;34m,\u001b[0m \u001b[0mkwargs\u001b[0m\u001b[0;34m)\u001b[0m\u001b[0;34m\u001b[0m\u001b[0;34m\u001b[0m\u001b[0m\n\u001b[0m\u001b[1;32m    821\u001b[0m \u001b[0;34m\u001b[0m\u001b[0m\n\u001b[1;32m    822\u001b[0m     \u001b[0;32mreturn\u001b[0m \u001b[0max\u001b[0m\u001b[0;34m\u001b[0m\u001b[0;34m\u001b[0m\u001b[0m\n",
            "\u001b[0;32m/usr/local/lib/python3.7/dist-packages/seaborn/relational.py\u001b[0m in \u001b[0;36mplot\u001b[0;34m(self, ax, kws)\u001b[0m\n\u001b[1;32m    649\u001b[0m         \u001b[0;31m# Draw the scatter plot\u001b[0m\u001b[0;34m\u001b[0m\u001b[0;34m\u001b[0m\u001b[0;34m\u001b[0m\u001b[0m\n\u001b[1;32m    650\u001b[0m         \u001b[0margs\u001b[0m \u001b[0;34m=\u001b[0m \u001b[0mnp\u001b[0m\u001b[0;34m.\u001b[0m\u001b[0masarray\u001b[0m\u001b[0;34m(\u001b[0m\u001b[0mx\u001b[0m\u001b[0;34m)\u001b[0m\u001b[0;34m,\u001b[0m \u001b[0mnp\u001b[0m\u001b[0;34m.\u001b[0m\u001b[0masarray\u001b[0m\u001b[0;34m(\u001b[0m\u001b[0my\u001b[0m\u001b[0;34m)\u001b[0m\u001b[0;34m,\u001b[0m \u001b[0mnp\u001b[0m\u001b[0;34m.\u001b[0m\u001b[0masarray\u001b[0m\u001b[0;34m(\u001b[0m\u001b[0ms\u001b[0m\u001b[0;34m)\u001b[0m\u001b[0;34m,\u001b[0m \u001b[0mnp\u001b[0m\u001b[0;34m.\u001b[0m\u001b[0masarray\u001b[0m\u001b[0;34m(\u001b[0m\u001b[0mc\u001b[0m\u001b[0;34m)\u001b[0m\u001b[0;34m\u001b[0m\u001b[0;34m\u001b[0m\u001b[0m\n\u001b[0;32m--> 651\u001b[0;31m         \u001b[0mpoints\u001b[0m \u001b[0;34m=\u001b[0m \u001b[0max\u001b[0m\u001b[0;34m.\u001b[0m\u001b[0mscatter\u001b[0m\u001b[0;34m(\u001b[0m\u001b[0;34m*\u001b[0m\u001b[0margs\u001b[0m\u001b[0;34m,\u001b[0m \u001b[0;34m**\u001b[0m\u001b[0mkws\u001b[0m\u001b[0;34m)\u001b[0m\u001b[0;34m\u001b[0m\u001b[0;34m\u001b[0m\u001b[0m\n\u001b[0m\u001b[1;32m    652\u001b[0m \u001b[0;34m\u001b[0m\u001b[0m\n\u001b[1;32m    653\u001b[0m         \u001b[0;31m# Update the paths to get different marker shapes.\u001b[0m\u001b[0;34m\u001b[0m\u001b[0;34m\u001b[0m\u001b[0;34m\u001b[0m\u001b[0m\n",
            "\u001b[0;32m/usr/local/lib/python3.7/dist-packages/matplotlib/__init__.py\u001b[0m in \u001b[0;36minner\u001b[0;34m(ax, data, *args, **kwargs)\u001b[0m\n\u001b[1;32m   1563\u001b[0m     \u001b[0;32mdef\u001b[0m \u001b[0minner\u001b[0m\u001b[0;34m(\u001b[0m\u001b[0max\u001b[0m\u001b[0;34m,\u001b[0m \u001b[0;34m*\u001b[0m\u001b[0margs\u001b[0m\u001b[0;34m,\u001b[0m \u001b[0mdata\u001b[0m\u001b[0;34m=\u001b[0m\u001b[0;32mNone\u001b[0m\u001b[0;34m,\u001b[0m \u001b[0;34m**\u001b[0m\u001b[0mkwargs\u001b[0m\u001b[0;34m)\u001b[0m\u001b[0;34m:\u001b[0m\u001b[0;34m\u001b[0m\u001b[0;34m\u001b[0m\u001b[0m\n\u001b[1;32m   1564\u001b[0m         \u001b[0;32mif\u001b[0m \u001b[0mdata\u001b[0m \u001b[0;32mis\u001b[0m \u001b[0;32mNone\u001b[0m\u001b[0;34m:\u001b[0m\u001b[0;34m\u001b[0m\u001b[0;34m\u001b[0m\u001b[0m\n\u001b[0;32m-> 1565\u001b[0;31m             \u001b[0;32mreturn\u001b[0m \u001b[0mfunc\u001b[0m\u001b[0;34m(\u001b[0m\u001b[0max\u001b[0m\u001b[0;34m,\u001b[0m \u001b[0;34m*\u001b[0m\u001b[0mmap\u001b[0m\u001b[0;34m(\u001b[0m\u001b[0msanitize_sequence\u001b[0m\u001b[0;34m,\u001b[0m \u001b[0margs\u001b[0m\u001b[0;34m)\u001b[0m\u001b[0;34m,\u001b[0m \u001b[0;34m**\u001b[0m\u001b[0mkwargs\u001b[0m\u001b[0;34m)\u001b[0m\u001b[0;34m\u001b[0m\u001b[0;34m\u001b[0m\u001b[0m\n\u001b[0m\u001b[1;32m   1566\u001b[0m \u001b[0;34m\u001b[0m\u001b[0m\n\u001b[1;32m   1567\u001b[0m         \u001b[0mbound\u001b[0m \u001b[0;34m=\u001b[0m \u001b[0mnew_sig\u001b[0m\u001b[0;34m.\u001b[0m\u001b[0mbind\u001b[0m\u001b[0;34m(\u001b[0m\u001b[0max\u001b[0m\u001b[0;34m,\u001b[0m \u001b[0;34m*\u001b[0m\u001b[0margs\u001b[0m\u001b[0;34m,\u001b[0m \u001b[0;34m**\u001b[0m\u001b[0mkwargs\u001b[0m\u001b[0;34m)\u001b[0m\u001b[0;34m\u001b[0m\u001b[0;34m\u001b[0m\u001b[0m\n",
            "\u001b[0;32m/usr/local/lib/python3.7/dist-packages/matplotlib/cbook/deprecation.py\u001b[0m in \u001b[0;36mwrapper\u001b[0;34m(*args, **kwargs)\u001b[0m\n\u001b[1;32m    356\u001b[0m                 \u001b[0;34mf\"%(removal)s.  If any parameter follows {name!r}, they \"\u001b[0m\u001b[0;34m\u001b[0m\u001b[0;34m\u001b[0m\u001b[0m\n\u001b[1;32m    357\u001b[0m                 f\"should be pass as keyword, not positionally.\")\n\u001b[0;32m--> 358\u001b[0;31m         \u001b[0;32mreturn\u001b[0m \u001b[0mfunc\u001b[0m\u001b[0;34m(\u001b[0m\u001b[0;34m*\u001b[0m\u001b[0margs\u001b[0m\u001b[0;34m,\u001b[0m \u001b[0;34m**\u001b[0m\u001b[0mkwargs\u001b[0m\u001b[0;34m)\u001b[0m\u001b[0;34m\u001b[0m\u001b[0;34m\u001b[0m\u001b[0m\n\u001b[0m\u001b[1;32m    359\u001b[0m \u001b[0;34m\u001b[0m\u001b[0m\n\u001b[1;32m    360\u001b[0m     \u001b[0;32mreturn\u001b[0m \u001b[0mwrapper\u001b[0m\u001b[0;34m\u001b[0m\u001b[0;34m\u001b[0m\u001b[0m\n",
            "\u001b[0;32m/usr/local/lib/python3.7/dist-packages/matplotlib/axes/_axes.py\u001b[0m in \u001b[0;36mscatter\u001b[0;34m(self, x, y, s, c, marker, cmap, norm, vmin, vmax, alpha, linewidths, verts, edgecolors, plotnonfinite, **kwargs)\u001b[0m\n\u001b[1;32m   4438\u001b[0m                 \u001b[0moffsets\u001b[0m\u001b[0;34m=\u001b[0m\u001b[0moffsets\u001b[0m\u001b[0;34m,\u001b[0m\u001b[0;34m\u001b[0m\u001b[0;34m\u001b[0m\u001b[0m\n\u001b[1;32m   4439\u001b[0m                 \u001b[0mtransOffset\u001b[0m\u001b[0;34m=\u001b[0m\u001b[0mkwargs\u001b[0m\u001b[0;34m.\u001b[0m\u001b[0mpop\u001b[0m\u001b[0;34m(\u001b[0m\u001b[0;34m'transform'\u001b[0m\u001b[0;34m,\u001b[0m \u001b[0mself\u001b[0m\u001b[0;34m.\u001b[0m\u001b[0mtransData\u001b[0m\u001b[0;34m)\u001b[0m\u001b[0;34m,\u001b[0m\u001b[0;34m\u001b[0m\u001b[0;34m\u001b[0m\u001b[0m\n\u001b[0;32m-> 4440\u001b[0;31m                 \u001b[0malpha\u001b[0m\u001b[0;34m=\u001b[0m\u001b[0malpha\u001b[0m\u001b[0;34m\u001b[0m\u001b[0;34m\u001b[0m\u001b[0m\n\u001b[0m\u001b[1;32m   4441\u001b[0m                 )\n\u001b[1;32m   4442\u001b[0m         \u001b[0mcollection\u001b[0m\u001b[0;34m.\u001b[0m\u001b[0mset_transform\u001b[0m\u001b[0;34m(\u001b[0m\u001b[0mmtransforms\u001b[0m\u001b[0;34m.\u001b[0m\u001b[0mIdentityTransform\u001b[0m\u001b[0;34m(\u001b[0m\u001b[0;34m)\u001b[0m\u001b[0;34m)\u001b[0m\u001b[0;34m\u001b[0m\u001b[0;34m\u001b[0m\u001b[0m\n",
            "\u001b[0;32m/usr/local/lib/python3.7/dist-packages/matplotlib/collections.py\u001b[0m in \u001b[0;36m__init__\u001b[0;34m(self, paths, sizes, **kwargs)\u001b[0m\n\u001b[1;32m    909\u001b[0m         \"\"\"\n\u001b[1;32m    910\u001b[0m \u001b[0;34m\u001b[0m\u001b[0m\n\u001b[0;32m--> 911\u001b[0;31m         \u001b[0mCollection\u001b[0m\u001b[0;34m.\u001b[0m\u001b[0m__init__\u001b[0m\u001b[0;34m(\u001b[0m\u001b[0mself\u001b[0m\u001b[0;34m,\u001b[0m \u001b[0;34m**\u001b[0m\u001b[0mkwargs\u001b[0m\u001b[0;34m)\u001b[0m\u001b[0;34m\u001b[0m\u001b[0;34m\u001b[0m\u001b[0m\n\u001b[0m\u001b[1;32m    912\u001b[0m         \u001b[0mself\u001b[0m\u001b[0;34m.\u001b[0m\u001b[0mset_paths\u001b[0m\u001b[0;34m(\u001b[0m\u001b[0mpaths\u001b[0m\u001b[0;34m)\u001b[0m\u001b[0;34m\u001b[0m\u001b[0;34m\u001b[0m\u001b[0m\n\u001b[1;32m    913\u001b[0m         \u001b[0mself\u001b[0m\u001b[0;34m.\u001b[0m\u001b[0mset_sizes\u001b[0m\u001b[0;34m(\u001b[0m\u001b[0msizes\u001b[0m\u001b[0;34m)\u001b[0m\u001b[0;34m\u001b[0m\u001b[0;34m\u001b[0m\u001b[0m\n",
            "\u001b[0;32m/usr/local/lib/python3.7/dist-packages/matplotlib/collections.py\u001b[0m in \u001b[0;36m__init__\u001b[0;34m(self, edgecolors, facecolors, linewidths, linestyles, capstyle, joinstyle, antialiaseds, offsets, transOffset, norm, cmap, pickradius, hatch, urls, offset_position, zorder, **kwargs)\u001b[0m\n\u001b[1;32m    151\u001b[0m         \u001b[0mself\u001b[0m\u001b[0;34m.\u001b[0m\u001b[0m_uniform_offsets\u001b[0m \u001b[0;34m=\u001b[0m \u001b[0;32mNone\u001b[0m\u001b[0;34m\u001b[0m\u001b[0;34m\u001b[0m\u001b[0m\n\u001b[1;32m    152\u001b[0m         \u001b[0;32mif\u001b[0m \u001b[0moffsets\u001b[0m \u001b[0;32mis\u001b[0m \u001b[0;32mnot\u001b[0m \u001b[0;32mNone\u001b[0m\u001b[0;34m:\u001b[0m\u001b[0;34m\u001b[0m\u001b[0;34m\u001b[0m\u001b[0m\n\u001b[0;32m--> 153\u001b[0;31m             \u001b[0moffsets\u001b[0m \u001b[0;34m=\u001b[0m \u001b[0mnp\u001b[0m\u001b[0;34m.\u001b[0m\u001b[0masanyarray\u001b[0m\u001b[0;34m(\u001b[0m\u001b[0moffsets\u001b[0m\u001b[0;34m,\u001b[0m \u001b[0mfloat\u001b[0m\u001b[0;34m)\u001b[0m\u001b[0;34m\u001b[0m\u001b[0;34m\u001b[0m\u001b[0m\n\u001b[0m\u001b[1;32m    154\u001b[0m             \u001b[0;31m# Broadcast (2,) -> (1, 2) but nothing else.\u001b[0m\u001b[0;34m\u001b[0m\u001b[0;34m\u001b[0m\u001b[0;34m\u001b[0m\u001b[0m\n\u001b[1;32m    155\u001b[0m             \u001b[0;32mif\u001b[0m \u001b[0moffsets\u001b[0m\u001b[0;34m.\u001b[0m\u001b[0mshape\u001b[0m \u001b[0;34m==\u001b[0m \u001b[0;34m(\u001b[0m\u001b[0;36m2\u001b[0m\u001b[0;34m,\u001b[0m\u001b[0;34m)\u001b[0m\u001b[0;34m:\u001b[0m\u001b[0;34m\u001b[0m\u001b[0;34m\u001b[0m\u001b[0m\n",
            "\u001b[0;32m/usr/local/lib/python3.7/dist-packages/numpy/core/_asarray.py\u001b[0m in \u001b[0;36masanyarray\u001b[0;34m(a, dtype, order)\u001b[0m\n\u001b[1;32m    134\u001b[0m \u001b[0;34m\u001b[0m\u001b[0m\n\u001b[1;32m    135\u001b[0m     \"\"\"\n\u001b[0;32m--> 136\u001b[0;31m     \u001b[0;32mreturn\u001b[0m \u001b[0marray\u001b[0m\u001b[0;34m(\u001b[0m\u001b[0ma\u001b[0m\u001b[0;34m,\u001b[0m \u001b[0mdtype\u001b[0m\u001b[0;34m,\u001b[0m \u001b[0mcopy\u001b[0m\u001b[0;34m=\u001b[0m\u001b[0;32mFalse\u001b[0m\u001b[0;34m,\u001b[0m \u001b[0morder\u001b[0m\u001b[0;34m=\u001b[0m\u001b[0morder\u001b[0m\u001b[0;34m,\u001b[0m \u001b[0msubok\u001b[0m\u001b[0;34m=\u001b[0m\u001b[0;32mTrue\u001b[0m\u001b[0;34m)\u001b[0m\u001b[0;34m\u001b[0m\u001b[0;34m\u001b[0m\u001b[0m\n\u001b[0m\u001b[1;32m    137\u001b[0m \u001b[0;34m\u001b[0m\u001b[0m\n\u001b[1;32m    138\u001b[0m \u001b[0;34m\u001b[0m\u001b[0m\n",
            "\u001b[0;31mValueError\u001b[0m: could not convert string to float: 'S'"
          ]
        },
        {
          "output_type": "display_data",
          "data": {
            "image/png": "[encoded data removed]",
            "text/plain": [
              "<Figure size 900x180 with 5 Axes>"
            ]
          },
          "metadata": {
            "tags": [],
            "needs_background": "light"
          }
        },
        {
          "output_type": "display_data",
          "data": {
            "image/png": "[encoded data removed]",
            "text/plain": [
              "<Figure size 900x180 with 5 Axes>"
            ]
          },
          "metadata": {
            "tags": [],
            "needs_background": "light"
          }
        },
        {
          "output_type": "display_data",
          "data": {
            "image/png": "[encoded data removed]",
            "text/plain": [
              "<Figure size 900x180 with 5 Axes>"
            ]
          },
          "metadata": {
            "tags": [],
            "needs_background": "light"
          }
        },
        {
          "output_type": "display_data",
          "data": {
            "image/png": "[encoded data removed]",
            "text/plain": [
              "<Figure size 900x180 with 6 Axes>"
            ]
          },
          "metadata": {
            "tags": [],
            "needs_background": "light"
          }
        },
        {
          "output_type": "display_data",
          "data": {
            "image/png": "[encoded data removed]",
            "text/plain": [
              "<Figure size 900x180 with 5 Axes>"
            ]
          },
          "metadata": {
            "tags": [],
            "needs_background": "light"
          }
        }
      ]
    },
    {
      "cell_type": "markdown",
      "metadata": {
        "id": "iQPcQhoZWywB"
      },
      "source": [
        "Require further analysis"
      ]
    },
    {
      "cell_type": "markdown",
      "metadata": {
        "id": "LsucktwYQgyX"
      },
      "source": [
        "# Future work\n",
        "Just like I said in the beginning, this notebook is just a primitive EDA on NPDB public dataset.  \n",
        "\n",
        "In the future, to further analysis the practitioner risk, I can perform tasks such as Machine Learning/Regression to estimate payment on various features(location, field, ...), integrating external data(like using CPI to adjust payment). \n",
        "\n",
        "Even for the EDA, we only compared payout rate according to states, practype, patient type, etc. We can also compare claims counts, average payout per claim count. \n",
        "\n",
        "It's better to estimate the risk if we can locate the individual level instead of case level. Or, at least, integrate the number of practitioner according to states, type, etc. Thus, we can have at least a estimation of risk on individual basis. \n",
        "\n",
        "\n",
        "Pay attention to *PublicUseDataFile-Format.pdf* for the features we used in analysis, which may create bias as they changed through time. "
      ]
    },
    {
      "cell_type": "markdown",
      "metadata": {
        "id": "pxJlzBUV6ntD"
      },
      "source": [
        "## More data cleaning\n",
        "First, supported by pandas, I can change those categorical **'object'** codes, like RECTYPE, LICNFELD, etc. into dtype **'category'**, such as *'A'* to *'old Adverse Action Report'*, which is both space efficient and easy understanding. "
      ]
    },
    {
      "cell_type": "code",
      "metadata": {
        "id": "hLyIAAbRQ7-c"
      },
      "source": [
        ""
      ],
      "execution_count": null,
      "outputs": []
    }
  ]
}